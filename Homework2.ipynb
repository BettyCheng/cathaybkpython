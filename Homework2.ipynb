{
 "cells": [
  {
   "cell_type": "markdown",
   "metadata": {},
   "source": [
    "# 作業二"
   ]
  },
  {
   "cell_type": "markdown",
   "metadata": {},
   "source": [
    "## 國泰世華銀行網站的所有聯結網址\n",
    "- https://raw.githubusercontent.com/ywchiu/cathaybkpython/master/data/cathay.tab"
   ]
  },
  {
   "cell_type": "markdown",
   "metadata": {},
   "source": [
    "1. 請試用python 統計公司網站內一共有多少聯結?\n",
    "2. 請統計第二層目錄(e.g. https://www.cathaybk.com.tw/cathaybk/card/event/bill/add_5.asp 屬於card 目錄, https://www.cathaybk.com.tw/cathaybk/trust/trust_4_2.asp 屬於trust 目錄)各有多少聯結? \n",
    "3. 將第二題統計結果(包含第二層類別與聯結數量 e.g. card 20)寫到一個名為cathay_link_stat.csv 的檔案中，欄位之間以\",\"做為分隔"
   ]
  },
  {
   "cell_type": "markdown",
   "metadata": {},
   "source": [
    "## 1. 請試用python 統計公司網站內一共有多少聯結?"
   ]
  },
  {
   "cell_type": "code",
   "execution_count": 25,
   "metadata": {
    "collapsed": false
   },
   "outputs": [
    {
     "name": "stdout",
     "output_type": "stream",
     "text": [
      "1446\n"
     ]
    }
   ],
   "source": [
    "f = open('data/cathay.tab', 'r', encoding='utf-8')\n",
    "entry = []\n",
    "for idx, line in enumerate(f.readlines()):\n",
    "    if(idx!=0):\n",
    "        entry.append(line.strip())\n",
    "print(len(entry))"
   ]
  },
  {
   "cell_type": "markdown",
   "metadata": {},
   "source": [
    "## 抓出資料編號範例"
   ]
  },
  {
   "cell_type": "code",
   "execution_count": 19,
   "metadata": {
    "collapsed": false
   },
   "outputs": [
    {
     "name": "stdout",
     "output_type": "stream",
     "text": [
      "b\n"
     ]
    }
   ],
   "source": [
    "a = ['a','b','c']\n",
    "\n",
    "# 利用逐步加一的方式\n",
    "\n",
    "idx = 1 # 給初始值\n",
    "for ele in a: \n",
    "    if(idx % 2 == 0):\n",
    "        print(ele)\n",
    "    idx += 1 # 每次加一"
   ]
  },
  {
   "cell_type": "code",
   "execution_count": 20,
   "metadata": {
    "collapsed": false
   },
   "outputs": [
    {
     "name": "stdout",
     "output_type": "stream",
     "text": [
      "b\n"
     ]
    }
   ],
   "source": [
    "# enumerate \n",
    "for idx, ele in enumerate(a):\n",
    "    if(idx % 2 == 1):\n",
    "        print(ele)"
   ]
  },
  {
   "cell_type": "code",
   "execution_count": 23,
   "metadata": {
    "collapsed": false
   },
   "outputs": [],
   "source": [
    "f = open('data/cathay.tab', 'r', encoding='utf-8')\n",
    "entry = []\n",
    "#enumerate 產生編號\n",
    "for idx, line in enumerate(f.readlines()):\n",
    "    if idx != 0:\n",
    "        sid = line.strip().split()[0] # strip => 移除左右空白, split => 根據delimiter 切割\n",
    "        #print(type(sid))\n",
    "        entry.append(int(sid)) # 使用int 做轉型"
   ]
  },
  {
   "cell_type": "code",
   "execution_count": 24,
   "metadata": {
    "collapsed": false
   },
   "outputs": [
    {
     "data": {
      "text/plain": [
       "{1099}"
      ]
     },
     "execution_count": 24,
     "metadata": {},
     "output_type": "execute_result"
    }
   ],
   "source": [
    "idseq = set(range(0,1447)) # 產生 0 ~ 1446\n",
    "idseq - set(entry)"
   ]
  },
  {
   "cell_type": "markdown",
   "metadata": {},
   "source": [
    "## 2. 請統計第二層目錄(e.g. https://www.cathaybk.com.tw/cathaybk/card/event/bill/add_5.asp 屬於card 目錄, https://www.cathaybk.com.tw/cathaybk/trust/trust_4_2.asp 屬於trust 目錄)各有多少聯結?"
   ]
  },
  {
   "cell_type": "code",
   "execution_count": 31,
   "metadata": {
    "collapsed": false
   },
   "outputs": [
    {
     "name": "stdout",
     "output_type": "stream",
     "text": [
      "{'downloads': 6, 'exchange': 14, 'vip': 100, 'deposit': 16, 'card': 487, 'mmb': 21, 'mobile': 21, 'dsa': 4, 'contact': 2, 'join': 24, 'onlineloan': 9, 'private-bank': 1, 'insurance': 2, 'corp': 34, 'trust': 63, 'vientiane': 1, 'event': 29, 'about': 38, 'personal': 6, 'myvip': 1, 'loan': 2, 'english': 32, 'doc': 2, 'e_service': 12, 'life': 2, 'obu': 2, 'cash': 62, 'plan': 1, 'singapore': 3}\n"
     ]
    }
   ],
   "source": [
    "#用字典的方法\n",
    "f = open('data/cathay.tab', 'r', encoding='utf-8')\n",
    "\n",
    "linkdic = {}\n",
    "for idx, line in enumerate(f.readlines()):\n",
    "    if(idx!=0):\n",
    "        link = line.strip().split()[1]\n",
    "        link_split = link.split('/')\n",
    "        if(len(link_split) > 5) and '?' not in link_split[4]:\n",
    "            category = link_split[4]\n",
    "            if category not in linkdic:\n",
    "                linkdic[category] = 1\n",
    "            else:\n",
    "                linkdic[category] += 1\n",
    "print(linkdic)"
   ]
  },
  {
   "cell_type": "code",
   "execution_count": 33,
   "metadata": {
    "collapsed": false
   },
   "outputs": [
    {
     "name": "stdout",
     "output_type": "stream",
     "text": [
      "Counter({'card': 487, 'vip': 100, 'trust': 63, 'cash': 62, 'about': 38, 'corp': 34, 'english': 32, 'event': 29, 'join': 24, 'mmb': 21, 'mobile': 21, 'deposit': 16, 'exchange': 14, 'e_service': 12, 'onlineloan': 9, 'downloads': 6, 'personal': 6, 'dsa': 4, 'singapore': 3, 'contact': 2, 'insurance': 2, 'loan': 2, 'doc': 2, 'life': 2, 'obu': 2, 'private-bank': 1, 'vientiane': 1, 'myvip': 1, 'plan': 1})\n",
      "[('card', 487), ('vip', 100), ('trust', 63), ('cash', 62), ('about', 38)]\n"
     ]
    }
   ],
   "source": [
    "#collections 的 Counter\n",
    "from collections import Counter\n",
    "\n",
    "f = open('data/cathay.tab', 'r', encoding='utf-8')\n",
    "\n",
    "linkcounter = Counter()\n",
    "for idx, line in enumerate(f.readlines()):\n",
    "    if(idx!=0):\n",
    "        link = line.strip().split()[1]\n",
    "        link_split = link.split('/')\n",
    "        if(len(link_split) > 5) and '?' not in link_split[4]:\n",
    "            category = link_split[4]            \n",
    "            linkcounter[category] += 1\n",
    "            \n",
    "print(linkcounter)\n",
    "print(linkcounter.most_common(5))"
   ]
  },
  {
   "cell_type": "code",
   "execution_count": 36,
   "metadata": {
    "collapsed": false
   },
   "outputs": [
    {
     "name": "stdout",
     "output_type": "stream",
     "text": [
      "downloads 6\n",
      "exchange 14\n",
      "vip 100\n",
      "dsa 4\n",
      "join 24\n",
      "onlineloan 9\n",
      "corp 34\n",
      "trust 63\n",
      "personal 6\n",
      "loan 2\n",
      "e_service 12\n",
      "life 2\n",
      "private-bank 1\n",
      "cash 62\n",
      "obu 2\n",
      "singapore 3\n",
      "deposit 16\n",
      "card 487\n",
      "mmb 21\n",
      "mobile 21\n",
      "contact 2\n",
      "plan 1\n",
      "insurance 2\n",
      "vientiane 1\n",
      "event 29\n",
      "about 38\n",
      "myvip 1\n",
      "english 32\n",
      "doc 2\n"
     ]
    }
   ],
   "source": [
    "#使用set\n",
    "from collections import Counter\n",
    "\n",
    "f = open('data/cathay.tab', 'r', encoding='utf-8')\n",
    "\n",
    "linklist = []\n",
    "for idx, line in enumerate(f.readlines()):\n",
    "    if(idx!=0):\n",
    "        link = line.strip().split()[1]\n",
    "        link_split = link.split('/')\n",
    "        if(len(link_split) > 5) and '?' not in link_split[4]:\n",
    "            category = link_split[4]            \n",
    "            linklist.append(category)\n",
    "\n",
    "for category in set(linklist):\n",
    "    #print(category)\n",
    "    print(category, linklist.count(category))\n"
   ]
  },
  {
   "cell_type": "markdown",
   "metadata": {},
   "source": [
    "## 3. 將第二題統計結果(包含第二層類別與聯結數量 e.g. card 20)寫到一個名為cathay_link_stat.csv 的檔案中，欄位之間以\",\"做為分隔"
   ]
  },
  {
   "cell_type": "code",
   "execution_count": 39,
   "metadata": {
    "collapsed": true
   },
   "outputs": [],
   "source": [
    "#collections 的 Counter\n",
    "from collections import Counter\n",
    "\n",
    "f = open('data/cathay.tab', 'r', encoding='utf-8')\n",
    "\n",
    "linkcounter = Counter()\n",
    "for idx, line in enumerate(f.readlines()):\n",
    "    if(idx!=0):\n",
    "        link = line.strip().split()[1]\n",
    "        link_split = link.split('/')\n",
    "        if(len(link_split) > 5) and '?' not in link_split[4]:\n",
    "            category = link_split[4]            \n",
    "            linkcounter[category] += 1"
   ]
  },
  {
   "cell_type": "code",
   "execution_count": 42,
   "metadata": {
    "collapsed": false
   },
   "outputs": [
    {
     "name": "stdout",
     "output_type": "stream",
     "text": [
      "Counter({'card': 487, 'vip': 100, 'trust': 63, 'cash': 62, 'about': 38, 'corp': 34, 'english': 32, 'event': 29, 'join': 24, 'mmb': 21, 'mobile': 21, 'deposit': 16, 'exchange': 14, 'e_service': 12, 'onlineloan': 9, 'downloads': 6, 'personal': 6, 'dsa': 4, 'singapore': 3, 'contact': 2, 'insurance': 2, 'loan': 2, 'doc': 2, 'life': 2, 'obu': 2, 'private-bank': 1, 'vientiane': 1, 'myvip': 1, 'plan': 1})\n"
     ]
    }
   ],
   "source": [
    "print(linkcounter)"
   ]
  },
  {
   "cell_type": "code",
   "execution_count": 45,
   "metadata": {
    "collapsed": false
   },
   "outputs": [],
   "source": [
    "f  = open('cathay_link_stat.csv', 'w')\n",
    "for category in linkcounter:\n",
    "    #print(category, linkcounter[category])\n",
    "    f.write('%s,%s\\n'%(category, linkcounter[category]))\n",
    "f.close()"
   ]
  },
  {
   "cell_type": "code",
   "execution_count": null,
   "metadata": {
    "collapsed": true
   },
   "outputs": [],
   "source": []
  }
 ],
 "metadata": {
  "anaconda-cloud": {},
  "kernelspec": {
   "display_name": "Python [Root]",
   "language": "python",
   "name": "Python [Root]"
  },
  "language_info": {
   "codemirror_mode": {
    "name": "ipython",
    "version": 3
   },
   "file_extension": ".py",
   "mimetype": "text/x-python",
   "name": "python",
   "nbconvert_exporter": "python",
   "pygments_lexer": "ipython3",
   "version": "3.5.2"
  }
 },
 "nbformat": 4,
 "nbformat_minor": 0
}
