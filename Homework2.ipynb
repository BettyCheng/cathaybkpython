{
 "cells": [
  {
   "cell_type": "markdown",
   "metadata": {},
   "source": [
    "# 作業二"
   ]
  },
  {
   "cell_type": "markdown",
   "metadata": {},
   "source": [
    "## 國泰世華銀行網站的所有聯結網址\n",
    "- https://raw.githubusercontent.com/ywchiu/cathaybkpython/master/data/cathay.tab"
   ]
  },
  {
   "cell_type": "markdown",
   "metadata": {},
   "source": [
    "1. 請試用python 統計公司網站內一共有多少聯結?\n",
    "2. 請統計第二層目錄(e.g. https://www.cathaybk.com.tw/cathaybk/card/event/bill/add_5.asp 屬於card 目錄, https://www.cathaybk.com.tw/cathaybk/trust/trust_4_2.asp 屬於trust 目錄)各有多少聯結? \n",
    "3. 將第二題統計結果(包含第二層類別與聯結數量 e.g. card 20)寫到一個名為cathay_link_stat.csv 的檔案中，欄位之間以\",\"做為分隔"
   ]
  },
  {
   "cell_type": "code",
   "execution_count": null,
   "metadata": {
    "collapsed": true
   },
   "outputs": [],
   "source": []
  }
 ],
 "metadata": {
  "anaconda-cloud": {},
  "kernelspec": {
   "display_name": "Python [Root]",
   "language": "python",
   "name": "Python [Root]"
  },
  "language_info": {
   "codemirror_mode": {
    "name": "ipython",
    "version": 3
   },
   "file_extension": ".py",
   "mimetype": "text/x-python",
   "name": "python",
   "nbconvert_exporter": "python",
   "pygments_lexer": "ipython3",
   "version": "3.5.2"
  }
 },
 "nbformat": 4,
 "nbformat_minor": 0
}
