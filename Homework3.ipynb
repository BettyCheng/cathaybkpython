{
 "cells": [
  {
   "cell_type": "markdown",
   "metadata": {},
   "source": [
    "# 作業三"
   ]
  },
  {
   "cell_type": "markdown",
   "metadata": {},
   "source": [
    "撰寫一個機器人物件 robot, 機器人需要包含以下功能：\n",
    "- 使用者在建立物件時，可以給予機器人的年齡(age)與性別(gender)\n",
    "- 為機器人建立函式 getRobotProperty: 可以列印出機器人的年齡與性別\n",
    "- 為機器人建立函式 getMessage 可以接收使用者打的訊息, 並根據使用者的輸入檢查是否有包含下列字樣,如果有的話會自動回傳預設好的訊息, 沒有包含下列字樣的話將回傳\"Haha, I do not know what you are talking about!\"\n",
    "- 預設關鍵字與訊息放置在message.tab中"
   ]
  },
  {
   "cell_type": "code",
   "execution_count": 1,
   "metadata": {
    "collapsed": true
   },
   "outputs": [],
   "source": [
    "class Robot(object):\n",
    "    pass\n",
    "\n",
    "i = Robot()"
   ]
  },
  {
   "cell_type": "code",
   "execution_count": 2,
   "metadata": {
    "collapsed": false
   },
   "outputs": [
    {
     "data": {
      "text/plain": [
       "__main__.Robot"
      ]
     },
     "execution_count": 2,
     "metadata": {},
     "output_type": "execute_result"
    }
   ],
   "source": [
    "type(i)"
   ]
  },
  {
   "cell_type": "code",
   "execution_count": 3,
   "metadata": {
    "collapsed": false
   },
   "outputs": [
    {
     "data": {
      "text/plain": [
       "10"
      ]
     },
     "execution_count": 3,
     "metadata": {},
     "output_type": "execute_result"
    }
   ],
   "source": [
    "class Robot(object):\n",
    "    def __init__(self, age, gender):\n",
    "        self.age = age\n",
    "        self.gender = gender\n",
    "\n",
    "i = Robot(10, 'M')\n",
    "i.age"
   ]
  },
  {
   "cell_type": "code",
   "execution_count": 4,
   "metadata": {
    "collapsed": false
   },
   "outputs": [
    {
     "data": {
      "text/plain": [
       "'M'"
      ]
     },
     "execution_count": 4,
     "metadata": {},
     "output_type": "execute_result"
    }
   ],
   "source": [
    "i.gender"
   ]
  },
  {
   "cell_type": "code",
   "execution_count": 6,
   "metadata": {
    "collapsed": false
   },
   "outputs": [
    {
     "name": "stdout",
     "output_type": "stream",
     "text": [
      "Hi, I am 10 year's old, and I am Male\n"
     ]
    }
   ],
   "source": [
    "class Robot(object):\n",
    "    def __init__(self, age, gender):\n",
    "        self.age = age\n",
    "        self.gender = gender\n",
    "    def getRobotProperty(self):\n",
    "        print(\"Hi, I am {} year's old, and I am {}\".format(self.age, self.gender))\n",
    "    \n",
    "i = Robot(10, 'Male')\n",
    "i.getRobotProperty()"
   ]
  },
  {
   "cell_type": "code",
   "execution_count": 12,
   "metadata": {
    "collapsed": false
   },
   "outputs": [],
   "source": [
    "dic = {}\n",
    "with open('data/message.tab', 'r', encoding='utf-8') as f:\n",
    "    for line in f.readlines():\n",
    "        #print(line.strip().split('\\t'))\n",
    "        keyword, response = line.strip().split('\\t')\n",
    "        dic[keyword] = response"
   ]
  },
  {
   "cell_type": "code",
   "execution_count": 14,
   "metadata": {
    "collapsed": false
   },
   "outputs": [
    {
     "data": {
      "text/plain": [
       "{'Activity': 'Jogging, walking, swimming all do benefit to your body. Or you can simply shake your hands, lift your legs, twist you body and jump.',\n",
       " 'Afternoon': 'Good afternoon! Don’t forget to have your medicine.',\n",
       " 'Angry': 'I am sorry to hear that. How about listening song ‘Mamma mia’, it can change your mood.',\n",
       " 'Annoyed': 'I am sorry to hear that. How about listening song ‘Mamma mia’, it can change your mood.',\n",
       " 'Appointment': 'Your appointment with Dr.Chen is on Friday.',\n",
       " 'Breakfast': 'Good morning! Don’t forget to have your breakfast.',\n",
       " 'Depressed': 'I am sorry to hear that. How about listening song ‘Mamma mia’, it can change your mood. https://www.youtube.com/watch?v=unfzfe8f9NI',\n",
       " 'Dinner': 'Good evening! Don’t forget to have your Dinner.',\n",
       " 'Disappointment': 'It seems that you are not feeling well today. I will set the record.',\n",
       " 'Evening': 'Good evening! Don’t forget to have your medicine..',\n",
       " 'Excited': 'Glad to hear that.',\n",
       " 'Exercise': 'Jogging, walking, swimming all do benefit to your body. Or you can simply shake your hands, lift your legs, twist you body and jump.',\n",
       " 'Exhausted': 'Hey, just take some rest. Don’t push yourself too hard.',\n",
       " 'Fearful': 'Don’t be afraid, I will be with you.',\n",
       " 'Guilty': 'Time is passing, there is nothing you can change, so just live with it. :D',\n",
       " 'Happy': 'Glad to hear that.',\n",
       " 'Hobby': 'Do something you like will make you a happier person.',\n",
       " 'Hungry': 'Next meal will be served soon~~~',\n",
       " 'Joyful': 'Glad to hear that.',\n",
       " 'Lonely': 'Hey, you know I am here, and will forever be here with you. <3',\n",
       " 'Lunch': 'Good afternoon! Don’t forget to have your lunch.',\n",
       " 'Mad': 'I am sorry to hear that. How about listening song ‘Mamma mia’, it can change your mood.',\n",
       " 'Missing': 'Hey, you know I am here, and will forever be here with you. <3',\n",
       " 'Morning': 'Good morning! Don’t forget to have your medicine.',\n",
       " 'News': 'To learn more news, you can open the TV and switch to channel 53 to watch the CNN news.',\n",
       " 'Remember': 'Oh, really? Wow~',\n",
       " 'Sad': 'It seems that you are not feeling well today. I will set the record.',\n",
       " 'Scared': 'Don’t be afraid, I will be with you.',\n",
       " 'Sick': 'Shall I call the doctor to give you an aid?',\n",
       " 'Sleepy': 'Hey, just take some rest. Don’t push yourself too hard.',\n",
       " 'Surprised': 'Glad to hear that.',\n",
       " 'Tired': 'Hey, just take some rest. Don’t push yourself too hard.',\n",
       " 'Weather': 'Look outside, today’s weather is just like what you see now.',\n",
       " 'ill': 'Shall I call the doctor to give you an aid?',\n",
       " 'what can I do': 'Jogging, walking, swimming all do benefit to your body. Or you can simply shake your hands, lift your legs, twist you body and jump.'}"
      ]
     },
     "execution_count": 14,
     "metadata": {},
     "output_type": "execute_result"
    }
   ],
   "source": [
    "dic"
   ]
  },
  {
   "cell_type": "code",
   "execution_count": 16,
   "metadata": {
    "collapsed": false
   },
   "outputs": [
    {
     "name": "stdout",
     "output_type": "stream",
     "text": [
      "I am sorry to hear that. How about listening song ‘Mamma mia’, it can change your mood. https://www.youtube.com/watch?v=unfzfe8f9NI\n"
     ]
    }
   ],
   "source": [
    "s = 'I am depressed'\n",
    "for k in dic:\n",
    "    if k.lower() in s.lower():\n",
    "        print(dic[k])"
   ]
  },
  {
   "cell_type": "code",
   "execution_count": 19,
   "metadata": {
    "collapsed": false
   },
   "outputs": [
    {
     "name": "stdout",
     "output_type": "stream",
     "text": [
      "What do you need?I feel sleepy\n",
      "Hey, just take some rest. Don’t push yourself too hard.\n"
     ]
    }
   ],
   "source": [
    "s = input('What do you need?')\n",
    "for k in dic:\n",
    "    if k.lower() in s.lower():\n",
    "        print(dic[k])"
   ]
  },
  {
   "cell_type": "code",
   "execution_count": 34,
   "metadata": {
    "collapsed": true
   },
   "outputs": [],
   "source": [
    "class Robot(object):\n",
    "    def __init__(self, age, gender):\n",
    "        self.age = age\n",
    "        self.gender = gender\n",
    "        self.corpus = {}\n",
    "        \n",
    "    def getRobotProperty(self):\n",
    "        print(\"Hi, I am {} year's old, and I am {}\".format(self.age, self.gender))\n",
    "        \n",
    "    def setupCorpus(self): \n",
    "        with open('data/message.tab', 'r', encoding='utf-8') as f:\n",
    "            for line in f.readlines():\n",
    "                #print(line.strip().split('\\t'))\n",
    "                keyword, response = line.strip().split('\\t')\n",
    "                self.corpus[keyword] = response\n",
    "                \n",
    "    def getMessage(self, message):\n",
    "        for k in self.corpus:\n",
    "            if k.lower() in message.lower():\n",
    "                #return(self.corpus[k])        \n",
    "                return(self.corpus[k])\n",
    "        return('I do not know what you are talking about? But you can google it https://www.google.com/search?q={}'.format(message))"
   ]
  },
  {
   "cell_type": "code",
   "execution_count": 38,
   "metadata": {
    "collapsed": false
   },
   "outputs": [
    {
     "data": {
      "text/plain": [
       "'I do not know what you are talking about? But you can google it https://www.google.com/search?q=doyoulikepokemon?  '"
      ]
     },
     "execution_count": 38,
     "metadata": {},
     "output_type": "execute_result"
    }
   ],
   "source": [
    "i = Robot(10, 'Male')\n",
    "i.setupCorpus()\n",
    "i.getMessage('doyoulikepokemon?  ')"
   ]
  },
  {
   "cell_type": "code",
   "execution_count": 6,
   "metadata": {
    "collapsed": false,
    "scrolled": true
   },
   "outputs": [],
   "source": [
    "dic = {}\n",
    "with open('data/message.tab', 'r', encoding = 'utf-8') as f:\n",
    "    for line in f.readlines():\n",
    "        keyword, message = line.strip().split('\\t')\n",
    "        dic[keyword] = message"
   ]
  },
  {
   "cell_type": "code",
   "execution_count": 13,
   "metadata": {
    "collapsed": false
   },
   "outputs": [
    {
     "name": "stdout",
     "output_type": "stream",
     "text": [
      "Good morning! Don’t forget to have your breakfast.\n"
     ]
    }
   ],
   "source": [
    "s = 'Breakfast please'\n",
    "for key in dic:\n",
    "    if(key.lower() in s.lower()):\n",
    "        print(dic[key])"
   ]
  },
  {
   "cell_type": "code",
   "execution_count": null,
   "metadata": {
    "collapsed": true
   },
   "outputs": [],
   "source": []
  }
 ],
 "metadata": {
  "kernelspec": {
   "display_name": "Python [Root]",
   "language": "python",
   "name": "Python [Root]"
  },
  "language_info": {
   "codemirror_mode": {
    "name": "ipython",
    "version": 3
   },
   "file_extension": ".py",
   "mimetype": "text/x-python",
   "name": "python",
   "nbconvert_exporter": "python",
   "pygments_lexer": "ipython3",
   "version": "3.5.2"
  }
 },
 "nbformat": 4,
 "nbformat_minor": 0
}
