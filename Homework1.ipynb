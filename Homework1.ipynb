{
 "cells": [
  {
   "cell_type": "code",
   "execution_count": 8,
   "metadata": {
    "collapsed": false
   },
   "outputs": [
    {
     "name": "stderr",
     "output_type": "stream",
     "text": [
      "C:\\Anaconda32\\lib\\site-packages\\bs4\\__init__.py:166: UserWarning: No parser was explicitly specified, so I'm using the best available HTML parser for this system (\"lxml\"). This usually isn't a problem, but if you run this code on another system, or in a different virtual environment, it may use a different parser and behave differently.\n",
      "\n",
      "To get rid of this warning, change this:\n",
      "\n",
      " BeautifulSoup([your markup])\n",
      "\n",
      "to this:\n",
      "\n",
      " BeautifulSoup([your markup], \"lxml\")\n",
      "\n",
      "  markup_type=markup_type))\n"
     ]
    }
   ],
   "source": [
    "import requests\n",
    "from bs4 import BeautifulSoup\n",
    "res = requests.get('https://www.cathayholdings.com/holdings/')\n",
    "soup = BeautifulSoup(res.text)\n",
    "cathay = [link['href'] for link in soup.select('a') ] \n",
    "#print(cathay)"
   ]
  },
  {
   "cell_type": "code",
   "execution_count": 9,
   "metadata": {
    "collapsed": true
   },
   "outputs": [],
   "source": [
    "cathay = ['https://www.cathayholdings.com/holdings',\n",
    " 'https://www.cathayholdings.com/life',\n",
    " 'https://www.cathayholdings.com/bank',\n",
    " 'https://www.cathayholdings.com/insurance',\n",
    " 'https://www.cathayholdings.com/securities',\n",
    " 'https://www.cathayholdings.com/funds',\n",
    " 'https://www.cathayholdings.com/consulting',\n",
    " 'english/eindex.htm',\n",
    " 'about_intro01.asp',\n",
    " 'about_query01.asp',\n",
    " '/bank/cathaybk/contact/index.asp',\n",
    " 'join/index.asp',\n",
    " 'sitemap.asp',\n",
    " 'https://accessibility.cathaybk.com.tw/',\n",
    " '#',\n",
    " 'index.asp',\n",
    " '/bank/cathaybk/index.asp',\n",
    " '/bank/cathaybk/corp/index.asp',\n",
    " '/bank/cathaybk/private-bank/default.asp',\n",
    " '/bank/cathaybk/index.asp',\n",
    " 'javascript:',\n",
    " 'card/index.asp',\n",
    " 'card/card/card.asp',\n",
    " 'card/event/2011/travel_1.asp',\n",
    " 'card/card/right/right_1.asp',\n",
    " 'card/event/bonus_index.asp',\n",
    " 'card/event/2012/201203newcard_ggg/index.html',\n",
    " 'https://www.cathayholdings.com/bank/cathaybk/card/event/2012/201203newcard_ggg/index.asp                                                                      ',\n",
    " 'card/index.asp',\n",
    " 'javascript:',\n",
    " '/bank/cathaybk/deposit/account-savings.asp',\n",
    " '/bank/cathaybk/deposit/account-certificate.asp',\n",
    " '/bank/cathaybk/deposit/account-special.asp',\n",
    " '/bank/cathaybk/deposit/rate.asp',\n",
    " 'https://www.cathaybk.com.tw/cathaybk/personal/event/2016/201601/index.htm                                                                             ',\n",
    " '/bank/cathaybk/deposit/index.asp',\n",
    " 'javascript:',\n",
    " 'house-index.asp',\n",
    " 'house-reserve.asp',\n",
    " 'Onlinehouse_index.asp',\n",
    " 'credit-happytai.asp',\n",
    " 'credit-reserve.asp',\n",
    " '#lb_apply_loan_credit',\n",
    " 'other-stock.asp',\n",
    " 'other-reserve.asp?stock',\n",
    " '/bank/cathaybk/loan/event/2016/201604tax/index.asp',\n",
    " 'https://www.cathayholdings.com/bank/cathaybk/credit-happytai.asp                                                                                              ',\n",
    " 'javascript:',\n",
    " '/bank/cathaybk/exchange/currency-billboard.asp',\n",
    " '/bank/cathaybk/exchange/account.asp',\n",
    " '/bank/cathaybk/exchange/remittance-inward.asp',\n",
    " '/bank/cathaybk/exchange/checks.asp',\n",
    " '/bank/cathaybk/exchange/others-dbu.asp',\n",
    " '/bank/cathaybk/obu/index_personal.asp',\n",
    " 'https://www.cathayholdings.com/bank/cathaybk/card/event/2016/MyBill/20160523/card_news1050523_index.asp                                                       ',\n",
    " '/bank/cathaybk/exchange/index.asp',\n",
    " 'javascript:',\n",
    " '/bank/cathaybk/life/index.asp',\n",
    " '/bank/cathaybk/insurance/index.asp',\n",
    " 'https://www.cathayholdings.com/bank/cathaybk/insurance/index.asp                                                                                              ',\n",
    " 'javascript:',\n",
    " 'vip/myvip_1_1_1.asp',\n",
    " 'vip/myvip_1_05.asp',\n",
    " 'vip/myvip_1_02.asp',\n",
    " 'vip/myvip_2_1_1.asp',\n",
    " 'vip/myvip_index.asp',\n",
    " 'vip/myvip_3_01.asp',\n",
    " 'https://www.cathayholdings.com/bank/cathaybk/event/kids/index.htm',\n",
    " 'vip/hotkey_1_1.asp',\n",
    " 'https://www.cathayholdings.com/bank/cathaybk/vip/event/2014/201408Fund/index_B_0.html',\n",
    " '/bank/cathaybk/trust/trust_2_1_1.asp',\n",
    " '/bank/cathaybk/personal_marketing_securities.asp',\n",
    " 'https://www.cathayholdings.com/bank/cathaybk/vip/event/2014/201408Fund/desktop_index.html                                                                     ',\n",
    " 'vip/myvip_index.asp',\n",
    " 'https://www.mybank.com.tw',\n",
    " 'https://www.mybank.com.tw/MyBank/Quicklinks/Outer/HowToApply',\n",
    " 'https://www.mybank.com.tw/MyBank/Quicklinks/Outer/TxnOverViewRst',\n",
    " 'https://www.mybank.com.tw/myatm/cathaybk_myatm.asp',\n",
    " 'https://www.globalmyb2b.com/GEBANK/Login.aspx',\n",
    " 'https://www.cathayholdings.com/bank/cathaybk/trust/event/2016/201602trust/index.asp',\n",
    " 'https://www.cathayholdings.com/bank/cathaybk/credit-happytai.asp',\n",
    " 'https://www.cathayholdings.com/bank/cathaybk/card/card/formosa/index.html',\n",
    " 'https://www.kokobank.com/KOKO?utm_source=CUBbigbanner&utm_medium=banner&utm_campaign=KOKOoda',\n",
    " 'https://www.cathayholdings.com/bank/cathaybk/card/event/2016/MyBill/20160523/card_news1050523_index.asp',\n",
    " 'javascript:',\n",
    " 'javascript:',\n",
    " 'javascript:',\n",
    " 'javascript:',\n",
    " 'javascript:',\n",
    " 'javascript:Reset_ValidCode();',\n",
    " 'personal_info07.asp',\n",
    " 'personal_info05.asp',\n",
    " 'https://www.cathaybk.com.tw/cathaybk/dsa/openaccount/intro/index.aspx',\n",
    " 'https://www.cathaybk.com.tw/cathaybk/card/MyBill/index.asp',\n",
    " 'javascript:',\n",
    " '#lb_apply_loan_credit',\n",
    " 'https://www.cathaybk.com.tw/cathaybk/OnlineLoan_schedule.asp',\n",
    " '#lb_apply_loan_credit_02',\n",
    " '#lb_apply_loan_credit_03',\n",
    " 'Onlinehouse_index.asp',\n",
    " 'javascript:',\n",
    " 'https://www.cathaybk.com.tw/cathaybk/OnlineLoan_card_apply.asp',\n",
    " 'Online_ActivateCardForm.asp',\n",
    " 'Online_RecommendCardForm.asp',\n",
    " 'https://www.cathaybk.com.tw/cathaybk/contact.asp',\n",
    " 'https://www.kokobank.com/KOKO?utm_source=CUBindex&utm_medium=Banner&utm_campaign=CUBindex',\n",
    " 'mmb/index.asp',\n",
    " 'e_service/linepay/event/2015/201506linepay/index.asp',\n",
    " 'https://www.cathaybk.com.tw/cathaybk/e_service/MyMobiBank/event/2015/201502mmb_push/index.asp',\n",
    " 'https://www.cathaybk.com.tw/cathaybk/personal/event/2016/201601/index.htm#a04',\n",
    " 'https://www.cathayholdings.com/bank/cathaybk/enterprise/pdf/pdf34.pdf',\n",
    " 'https://www.cathayholdings.com/bank/cathaybk/enterprise/pdf/pdf33.pdf',\n",
    " 'https://www.cathayholdings.com/bank/cathaybk/enterprise/pdf/pdf32.pdf',\n",
    " 'https://www.cathayholdings.com/bank/cathaybk/enterprise/pdf/pdf31.pdf',\n",
    " 'https://www.cathayholdings.com/bank/cathaybk/enterprise/pdf/pdf30.pdf',\n",
    " 'https://www.cathayholdings.com/bank/cathaybk/vip/myvip_news1050628.asp',\n",
    " 'https://www.cathayholdings.com/bank/cathaybk/doc/cathay20160705.pdf',\n",
    " 'https://www.cathayholdings.com/bank/cathaybk/about_news1050628.asp',\n",
    " 'https://www.cathayholdings.com/bank/cathaybk/about_news1040511.asp',\n",
    " 'news-list.asp',\n",
    " 'https://www.cathaybk.com.tw/cathaybk/personal/event/2016/201601/index.htm',\n",
    " 'https://www.cathayholdings.com/bank/cathaybk/trust/event/2016/201602trust/index.asp',\n",
    " 'https://www.cathayholdings.com/bank/cathaybk/trust_fund_event201606.asp',\n",
    " 'https://www.cathayholdings.com/bank/cathaybk/credit-happytai.asp',\n",
    " 'https://www.kokobank.com/KOKO?utm_source=CUBsmallbanner&utm_medium=banner&utm_campaign=KOKOoda',\n",
    " 'javascript:',\n",
    " '/bank/cathaybk/card/index.asp',\n",
    " '/bank/cathaybk/card/card/card.asp',\n",
    " '/bank/cathaybk/card/news_list.asp',\n",
    " '/bank/cathaybk/card/card/right/right_1.asp',\n",
    " '/bank/cathaybk/card/event/bonus/bonus_2.asp',\n",
    " '/bank/cathaybk/card/event/2012/201203newcard_ggg/index.html',\n",
    " '/bank/cathaybk/deposit/index.asp',\n",
    " '/bank/cathaybk/deposit/account-savings.asp',\n",
    " '/bank/cathaybk/deposit/account-certificate.asp',\n",
    " '/bank/cathaybk/deposit/account-special.asp',\n",
    " '/bank/cathaybk/deposit/rate.asp',\n",
    " 'javascript:',\n",
    " '/bank/cathaybk/house-index.asp',\n",
    " '/bank/cathaybk/credit-happytai.asp',\n",
    " '/bank/cathaybk/other-stock.asp',\n",
    " '/bank/cathaybk/exchange/index.asp',\n",
    " '/bank/cathaybk/exchange/currency-billboard.asp',\n",
    " '/bank/cathaybk/exchange/account.asp',\n",
    " '/bank/cathaybk/exchange/remittance-inward.asp',\n",
    " '/bank/cathaybk/exchange/checks.asp',\n",
    " '/bank/cathaybk/exchange/others-dbu.asp',\n",
    " '/bank/cathaybk/obu/index_personal.asp',\n",
    " '/bank/cathaybk/life/index.asp',\n",
    " '/bank/cathaybk/life/index.asp',\n",
    " '/bank/cathaybk/insurance/index.asp',\n",
    " '/bank/cathaybk/vip/myvip_index.asp',\n",
    " '/bank/cathaybk/vip/myvip_1_1_1.asp',\n",
    " '/bank/cathaybk/vip/myvip_1_05.asp',\n",
    " '/bank/cathaybk/vip/myvip_1_02.asp',\n",
    " '/bank/cathaybk/vip/myvip_2_1_1.asp',\n",
    " '/bank/cathaybk/vip/myvip_index.asp',\n",
    " '/bank/cathaybk/vip/myvip_3_01.asp',\n",
    " '/bank/cathaybk/trust/trust_2_1_1.asp',\n",
    " '/bank/cathaybk/personal_marketing_securities.asp',\n",
    " 'https://www.mybank.com.tw/mybank/',\n",
    " 'javascript:void(0);',\n",
    " 'tel:+8860800818001',\n",
    " 'tel:+886223831000',\n",
    " '#',\n",
    " 'https://www.facebook.com/cathayunitedbank',\n",
    " 'https://www.youtube.com/user/cathayunitedbank/',\n",
    " 'about_creditcard.asp',\n",
    " 'about_finarpt.asp',\n",
    " 'index_environment.asp',\n",
    " 'about_safe.asp',\n",
    " 'set-browser.asp',\n",
    " 'https://www.cathaybk.com.tw/cathaybk/OnlineLoan_index.asp',\n",
    " 'https://www.mybank.com.tw/mybank/',\n",
    " 'credit-reserve.asp',\n",
    " '/bank/cathaybk/Online_Confirm_Card.asp',\n",
    " '/bank/cathaybk/Online_Confirm_Acct.asp',\n",
    " 'Online_Confirm_Srarch_Card.asp',\n",
    " 'Online_Confirm_Srarch_Acct.asp']"
   ]
  },
  {
   "cell_type": "markdown",
   "metadata": {},
   "source": [
    "### 問題:\n",
    "1. 裡面有多少副檔名包含pdf 的檔案\n",
    "2. 是否可以將包含pdf檔名的連結成整理一個List\n",
    "3. 除國泰世華網站 ( https://www.cathayholdings.com/ )外，這裡面有多少其他網域 (e.g. https://www.facebook.com/)"
   ]
  },
  {
   "cell_type": "code",
   "execution_count": 10,
   "metadata": {
    "collapsed": false
   },
   "outputs": [
    {
     "name": "stdout",
     "output_type": "stream",
     "text": [
      "179\n"
     ]
    }
   ],
   "source": [
    "print(len(cathay))"
   ]
  },
  {
   "cell_type": "code",
   "execution_count": 15,
   "metadata": {
    "collapsed": false
   },
   "outputs": [
    {
     "name": "stdout",
     "output_type": "stream",
     "text": [
      "['Online_Confirm_Srarch_Acct.asp', 'Online_Confirm_Srarch_Acct.asp', 'Online_Confirm_Srarch_Acct.asp', 'Online_Confirm_Srarch_Acct.asp', 'Online_Confirm_Srarch_Acct.asp', 'Online_Confirm_Srarch_Acct.asp', 'Online_Confirm_Srarch_Acct.asp', 'Online_Confirm_Srarch_Acct.asp', 'Online_Confirm_Srarch_Acct.asp', 'Online_Confirm_Srarch_Acct.asp', 'Online_Confirm_Srarch_Acct.asp', 'Online_Confirm_Srarch_Acct.asp', 'Online_Confirm_Srarch_Acct.asp', 'Online_Confirm_Srarch_Acct.asp', 'Online_Confirm_Srarch_Acct.asp', 'Online_Confirm_Srarch_Acct.asp', 'Online_Confirm_Srarch_Acct.asp', 'Online_Confirm_Srarch_Acct.asp', 'Online_Confirm_Srarch_Acct.asp', 'Online_Confirm_Srarch_Acct.asp', 'Online_Confirm_Srarch_Acct.asp', 'Online_Confirm_Srarch_Acct.asp', 'Online_Confirm_Srarch_Acct.asp', 'Online_Confirm_Srarch_Acct.asp', 'Online_Confirm_Srarch_Acct.asp', 'Online_Confirm_Srarch_Acct.asp', 'Online_Confirm_Srarch_Acct.asp', 'Online_Confirm_Srarch_Acct.asp', 'Online_Confirm_Srarch_Acct.asp', 'Online_Confirm_Srarch_Acct.asp', 'Online_Confirm_Srarch_Acct.asp', 'Online_Confirm_Srarch_Acct.asp', 'Online_Confirm_Srarch_Acct.asp', 'Online_Confirm_Srarch_Acct.asp', 'Online_Confirm_Srarch_Acct.asp', 'Online_Confirm_Srarch_Acct.asp', 'Online_Confirm_Srarch_Acct.asp', 'Online_Confirm_Srarch_Acct.asp', 'Online_Confirm_Srarch_Acct.asp', 'Online_Confirm_Srarch_Acct.asp', 'Online_Confirm_Srarch_Acct.asp', 'Online_Confirm_Srarch_Acct.asp', 'Online_Confirm_Srarch_Acct.asp', 'Online_Confirm_Srarch_Acct.asp', 'Online_Confirm_Srarch_Acct.asp', 'Online_Confirm_Srarch_Acct.asp', 'Online_Confirm_Srarch_Acct.asp', 'Online_Confirm_Srarch_Acct.asp', 'Online_Confirm_Srarch_Acct.asp', 'Online_Confirm_Srarch_Acct.asp', 'Online_Confirm_Srarch_Acct.asp', 'Online_Confirm_Srarch_Acct.asp', 'Online_Confirm_Srarch_Acct.asp', 'Online_Confirm_Srarch_Acct.asp', 'Online_Confirm_Srarch_Acct.asp', 'Online_Confirm_Srarch_Acct.asp', 'Online_Confirm_Srarch_Acct.asp', 'Online_Confirm_Srarch_Acct.asp', 'Online_Confirm_Srarch_Acct.asp', 'Online_Confirm_Srarch_Acct.asp', 'Online_Confirm_Srarch_Acct.asp', 'Online_Confirm_Srarch_Acct.asp', 'Online_Confirm_Srarch_Acct.asp', 'Online_Confirm_Srarch_Acct.asp', 'Online_Confirm_Srarch_Acct.asp', 'Online_Confirm_Srarch_Acct.asp', 'Online_Confirm_Srarch_Acct.asp', 'Online_Confirm_Srarch_Acct.asp', 'Online_Confirm_Srarch_Acct.asp', 'Online_Confirm_Srarch_Acct.asp', 'Online_Confirm_Srarch_Acct.asp', 'Online_Confirm_Srarch_Acct.asp', 'Online_Confirm_Srarch_Acct.asp', 'Online_Confirm_Srarch_Acct.asp', 'Online_Confirm_Srarch_Acct.asp', 'Online_Confirm_Srarch_Acct.asp', 'Online_Confirm_Srarch_Acct.asp', 'Online_Confirm_Srarch_Acct.asp', 'Online_Confirm_Srarch_Acct.asp', 'Online_Confirm_Srarch_Acct.asp', 'Online_Confirm_Srarch_Acct.asp', 'Online_Confirm_Srarch_Acct.asp', 'Online_Confirm_Srarch_Acct.asp', 'Online_Confirm_Srarch_Acct.asp', 'Online_Confirm_Srarch_Acct.asp', 'Online_Confirm_Srarch_Acct.asp', 'Online_Confirm_Srarch_Acct.asp', 'Online_Confirm_Srarch_Acct.asp', 'Online_Confirm_Srarch_Acct.asp', 'Online_Confirm_Srarch_Acct.asp', 'Online_Confirm_Srarch_Acct.asp', 'Online_Confirm_Srarch_Acct.asp', 'Online_Confirm_Srarch_Acct.asp', 'Online_Confirm_Srarch_Acct.asp', 'Online_Confirm_Srarch_Acct.asp', 'Online_Confirm_Srarch_Acct.asp', 'Online_Confirm_Srarch_Acct.asp', 'Online_Confirm_Srarch_Acct.asp', 'Online_Confirm_Srarch_Acct.asp', 'Online_Confirm_Srarch_Acct.asp', 'Online_Confirm_Srarch_Acct.asp', 'Online_Confirm_Srarch_Acct.asp', 'Online_Confirm_Srarch_Acct.asp', 'Online_Confirm_Srarch_Acct.asp', 'Online_Confirm_Srarch_Acct.asp', 'Online_Confirm_Srarch_Acct.asp', 'Online_Confirm_Srarch_Acct.asp', 'Online_Confirm_Srarch_Acct.asp', 'Online_Confirm_Srarch_Acct.asp', 'Online_Confirm_Srarch_Acct.asp', 'Online_Confirm_Srarch_Acct.asp', 'Online_Confirm_Srarch_Acct.asp', 'Online_Confirm_Srarch_Acct.asp', 'Online_Confirm_Srarch_Acct.asp', 'Online_Confirm_Srarch_Acct.asp', 'Online_Confirm_Srarch_Acct.asp', 'Online_Confirm_Srarch_Acct.asp', 'Online_Confirm_Srarch_Acct.asp', 'Online_Confirm_Srarch_Acct.asp', 'Online_Confirm_Srarch_Acct.asp']\n"
     ]
    }
   ],
   "source": [
    "linklist = []\n",
    "for link in cathay:\n",
    "    if 'asp' in link:\n",
    "        linklist.append(qoo)\n",
    "print(linklist)"
   ]
  },
  {
   "cell_type": "code",
   "execution_count": 16,
   "metadata": {
    "collapsed": false
   },
   "outputs": [
    {
     "name": "stdout",
     "output_type": "stream",
     "text": [
      "120\n"
     ]
    }
   ],
   "source": [
    "print(len(linklist))"
   ]
  },
  {
   "cell_type": "code",
   "execution_count": 19,
   "metadata": {
    "collapsed": false
   },
   "outputs": [
    {
     "name": "stdout",
     "output_type": "stream",
     "text": [
      "www.mybank.com.tw\n"
     ]
    }
   ],
   "source": [
    "url = 'https://www.mybank.com.tw/mybank/'\n",
    "url_split = url.split('/')\n",
    "print(url_split[2])"
   ]
  },
  {
   "cell_type": "code",
   "execution_count": null,
   "metadata": {
    "collapsed": true
   },
   "outputs": [],
   "source": []
  }
 ],
 "metadata": {
  "anaconda-cloud": {},
  "kernelspec": {
   "display_name": "Python [Root]",
   "language": "python",
   "name": "Python [Root]"
  },
  "language_info": {
   "codemirror_mode": {
    "name": "ipython",
    "version": 3
   },
   "file_extension": ".py",
   "mimetype": "text/x-python",
   "name": "python",
   "nbconvert_exporter": "python",
   "pygments_lexer": "ipython3",
   "version": "3.5.2"
  }
 },
 "nbformat": 4,
 "nbformat_minor": 0
}
