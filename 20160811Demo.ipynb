{
 "cells": [
  {
   "cell_type": "markdown",
   "metadata": {},
   "source": [
    "## 集合"
   ]
  },
  {
   "cell_type": "code",
   "execution_count": 1,
   "metadata": {
    "collapsed": true
   },
   "outputs": [],
   "source": [
    "x = set()"
   ]
  },
  {
   "cell_type": "code",
   "execution_count": 2,
   "metadata": {
    "collapsed": false
   },
   "outputs": [
    {
     "data": {
      "text/plain": [
       "['__and__',\n",
       " '__class__',\n",
       " '__contains__',\n",
       " '__delattr__',\n",
       " '__dir__',\n",
       " '__doc__',\n",
       " '__eq__',\n",
       " '__format__',\n",
       " '__ge__',\n",
       " '__getattribute__',\n",
       " '__gt__',\n",
       " '__hash__',\n",
       " '__iand__',\n",
       " '__init__',\n",
       " '__ior__',\n",
       " '__isub__',\n",
       " '__iter__',\n",
       " '__ixor__',\n",
       " '__le__',\n",
       " '__len__',\n",
       " '__lt__',\n",
       " '__ne__',\n",
       " '__new__',\n",
       " '__or__',\n",
       " '__rand__',\n",
       " '__reduce__',\n",
       " '__reduce_ex__',\n",
       " '__repr__',\n",
       " '__ror__',\n",
       " '__rsub__',\n",
       " '__rxor__',\n",
       " '__setattr__',\n",
       " '__sizeof__',\n",
       " '__str__',\n",
       " '__sub__',\n",
       " '__subclasshook__',\n",
       " '__xor__',\n",
       " 'add',\n",
       " 'clear',\n",
       " 'copy',\n",
       " 'difference',\n",
       " 'difference_update',\n",
       " 'discard',\n",
       " 'intersection',\n",
       " 'intersection_update',\n",
       " 'isdisjoint',\n",
       " 'issubset',\n",
       " 'issuperset',\n",
       " 'pop',\n",
       " 'remove',\n",
       " 'symmetric_difference',\n",
       " 'symmetric_difference_update',\n",
       " 'union',\n",
       " 'update']"
      ]
     },
     "execution_count": 2,
     "metadata": {},
     "output_type": "execute_result"
    }
   ],
   "source": [
    "dir(x)"
   ]
  },
  {
   "cell_type": "code",
   "execution_count": 3,
   "metadata": {
    "collapsed": true
   },
   "outputs": [],
   "source": [
    "?x.add"
   ]
  },
  {
   "cell_type": "code",
   "execution_count": 4,
   "metadata": {
    "collapsed": false
   },
   "outputs": [
    {
     "name": "stdout",
     "output_type": "stream",
     "text": [
      "{1}\n",
      "{1, 2}\n",
      "{1, 2}\n"
     ]
    }
   ],
   "source": [
    "x.add(1)\n",
    "print(x)\n",
    "\n",
    "x.add(2)\n",
    "print(x)\n",
    "\n",
    "x.add(1)\n",
    "print(x)"
   ]
  },
  {
   "cell_type": "code",
   "execution_count": 5,
   "metadata": {
    "collapsed": true
   },
   "outputs": [],
   "source": [
    "cathay = ['https://www.cathayholdings.com/holdings',\n",
    " 'https://www.cathayholdings.com/life',\n",
    " 'https://www.cathayholdings.com/bank',\n",
    " 'https://www.cathayholdings.com/insurance',\n",
    " 'https://www.cathayholdings.com/securities',\n",
    " 'https://www.cathayholdings.com/funds',\n",
    " 'https://www.cathayholdings.com/consulting',\n",
    " 'english/eindex.htm',\n",
    " 'about_intro01.asp',\n",
    " 'about_query01.asp',\n",
    " '/bank/cathaybk/contact/index.asp',\n",
    " 'join/index.asp',\n",
    " 'sitemap.asp',\n",
    " 'https://accessibility.cathaybk.com.tw/',\n",
    " '#',\n",
    " 'index.asp',\n",
    " '/bank/cathaybk/index.asp',\n",
    " '/bank/cathaybk/corp/index.asp',\n",
    " '/bank/cathaybk/private-bank/default.asp',\n",
    " '/bank/cathaybk/index.asp',\n",
    " 'javascript:',\n",
    " 'card/index.asp',\n",
    " 'card/card/card.asp',\n",
    " 'card/event/2011/travel_1.asp',\n",
    " 'card/card/right/right_1.asp',\n",
    " 'card/event/bonus_index.asp',\n",
    " 'card/event/2012/201203newcard_ggg/index.html',\n",
    " 'https://www.cathayholdings.com/bank/cathaybk/card/event/2012/201203newcard_ggg/index.asp                                                                      ',\n",
    " 'card/index.asp',\n",
    " 'javascript:',\n",
    " '/bank/cathaybk/deposit/account-savings.asp',\n",
    " '/bank/cathaybk/deposit/account-certificate.asp',\n",
    " '/bank/cathaybk/deposit/account-special.asp',\n",
    " '/bank/cathaybk/deposit/rate.asp',\n",
    " 'https://www.cathaybk.com.tw/cathaybk/personal/event/2016/201601/index.htm                                                                             ',\n",
    " '/bank/cathaybk/deposit/index.asp',\n",
    " 'javascript:',\n",
    " 'house-index.asp',\n",
    " 'house-reserve.asp',\n",
    " 'Onlinehouse_index.asp',\n",
    " 'credit-happytai.asp',\n",
    " 'credit-reserve.asp',\n",
    " '#lb_apply_loan_credit',\n",
    " 'other-stock.asp',\n",
    " 'other-reserve.asp?stock',\n",
    " '/bank/cathaybk/loan/event/2016/201604tax/index.asp',\n",
    " 'https://www.cathayholdings.com/bank/cathaybk/credit-happytai.asp                                                                                              ',\n",
    " 'javascript:',\n",
    " '/bank/cathaybk/exchange/currency-billboard.asp',\n",
    " '/bank/cathaybk/exchange/account.asp',\n",
    " '/bank/cathaybk/exchange/remittance-inward.asp',\n",
    " '/bank/cathaybk/exchange/checks.asp',\n",
    " '/bank/cathaybk/exchange/others-dbu.asp',\n",
    " '/bank/cathaybk/obu/index_personal.asp',\n",
    " 'https://www.cathayholdings.com/bank/cathaybk/card/event/2016/MyBill/20160523/card_news1050523_index.asp                                                       ',\n",
    " '/bank/cathaybk/exchange/index.asp',\n",
    " 'javascript:',\n",
    " '/bank/cathaybk/life/index.asp',\n",
    " '/bank/cathaybk/insurance/index.asp',\n",
    " 'https://www.cathayholdings.com/bank/cathaybk/insurance/index.asp                                                                                              ',\n",
    " 'javascript:',\n",
    " 'vip/myvip_1_1_1.asp',\n",
    " 'vip/myvip_1_05.asp',\n",
    " 'vip/myvip_1_02.asp',\n",
    " 'vip/myvip_2_1_1.asp',\n",
    " 'vip/myvip_index.asp',\n",
    " 'vip/myvip_3_01.asp',\n",
    " 'https://www.cathayholdings.com/bank/cathaybk/event/kids/index.htm',\n",
    " 'vip/hotkey_1_1.asp',\n",
    " 'https://www.cathayholdings.com/bank/cathaybk/vip/event/2014/201408Fund/index_B_0.html',\n",
    " '/bank/cathaybk/trust/trust_2_1_1.asp',\n",
    " '/bank/cathaybk/personal_marketing_securities.asp',\n",
    " 'https://www.cathayholdings.com/bank/cathaybk/vip/event/2014/201408Fund/desktop_index.html                                                                     ',\n",
    " 'vip/myvip_index.asp',\n",
    " 'https://www.mybank.com.tw',\n",
    " 'https://www.mybank.com.tw/MyBank/Quicklinks/Outer/HowToApply',\n",
    " 'https://www.mybank.com.tw/MyBank/Quicklinks/Outer/TxnOverViewRst',\n",
    " 'https://www.mybank.com.tw/myatm/cathaybk_myatm.asp',\n",
    " 'https://www.globalmyb2b.com/GEBANK/Login.aspx',\n",
    " 'https://www.cathayholdings.com/bank/cathaybk/trust/event/2016/201602trust/index.asp',\n",
    " 'https://www.cathayholdings.com/bank/cathaybk/credit-happytai.asp',\n",
    " 'https://www.cathayholdings.com/bank/cathaybk/card/card/formosa/index.html',\n",
    " 'https://www.kokobank.com/KOKO?utm_source=CUBbigbanner&utm_medium=banner&utm_campaign=KOKOoda',\n",
    " 'https://www.cathayholdings.com/bank/cathaybk/card/event/2016/MyBill/20160523/card_news1050523_index.asp',\n",
    " 'javascript:',\n",
    " 'javascript:',\n",
    " 'javascript:',\n",
    " 'javascript:',\n",
    " 'javascript:',\n",
    " 'javascript:Reset_ValidCode();',\n",
    " 'personal_info07.asp',\n",
    " 'personal_info05.asp',\n",
    " 'https://www.cathaybk.com.tw/cathaybk/dsa/openaccount/intro/index.aspx',\n",
    " 'https://www.cathaybk.com.tw/cathaybk/card/MyBill/index.asp',\n",
    " 'javascript:',\n",
    " '#lb_apply_loan_credit',\n",
    " 'https://www.cathaybk.com.tw/cathaybk/OnlineLoan_schedule.asp',\n",
    " '#lb_apply_loan_credit_02',\n",
    " '#lb_apply_loan_credit_03',\n",
    " 'Onlinehouse_index.asp',\n",
    " 'javascript:',\n",
    " 'https://www.cathaybk.com.tw/cathaybk/OnlineLoan_card_apply.asp',\n",
    " 'Online_ActivateCardForm.asp',\n",
    " 'Online_RecommendCardForm.asp',\n",
    " 'https://www.cathaybk.com.tw/cathaybk/contact.asp',\n",
    " 'https://www.kokobank.com/KOKO?utm_source=CUBindex&utm_medium=Banner&utm_campaign=CUBindex',\n",
    " 'mmb/index.asp',\n",
    " 'e_service/linepay/event/2015/201506linepay/index.asp',\n",
    " 'https://www.cathaybk.com.tw/cathaybk/e_service/MyMobiBank/event/2015/201502mmb_push/index.asp',\n",
    " 'https://www.cathaybk.com.tw/cathaybk/personal/event/2016/201601/index.htm#a04',\n",
    " 'https://www.cathayholdings.com/bank/cathaybk/enterprise/pdf/pdf34.pdf',\n",
    " 'https://www.cathayholdings.com/bank/cathaybk/enterprise/pdf/pdf33.pdf',\n",
    " 'https://www.cathayholdings.com/bank/cathaybk/enterprise/pdf/pdf32.pdf',\n",
    " 'https://www.cathayholdings.com/bank/cathaybk/enterprise/pdf/pdf31.pdf',\n",
    " 'https://www.cathayholdings.com/bank/cathaybk/enterprise/pdf/pdf30.pdf',\n",
    " 'https://www.cathayholdings.com/bank/cathaybk/vip/myvip_news1050628.asp',\n",
    " 'https://www.cathayholdings.com/bank/cathaybk/doc/cathay20160705.pdf',\n",
    " 'https://www.cathayholdings.com/bank/cathaybk/about_news1050628.asp',\n",
    " 'https://www.cathayholdings.com/bank/cathaybk/about_news1040511.asp',\n",
    " 'news-list.asp',\n",
    " 'https://www.cathaybk.com.tw/cathaybk/personal/event/2016/201601/index.htm',\n",
    " 'https://www.cathayholdings.com/bank/cathaybk/trust/event/2016/201602trust/index.asp',\n",
    " 'https://www.cathayholdings.com/bank/cathaybk/trust_fund_event201606.asp',\n",
    " 'https://www.cathayholdings.com/bank/cathaybk/credit-happytai.asp',\n",
    " 'https://www.kokobank.com/KOKO?utm_source=CUBsmallbanner&utm_medium=banner&utm_campaign=KOKOoda',\n",
    " 'javascript:',\n",
    " '/bank/cathaybk/card/index.asp',\n",
    " '/bank/cathaybk/card/card/card.asp',\n",
    " '/bank/cathaybk/card/news_list.asp',\n",
    " '/bank/cathaybk/card/card/right/right_1.asp',\n",
    " '/bank/cathaybk/card/event/bonus/bonus_2.asp',\n",
    " '/bank/cathaybk/card/event/2012/201203newcard_ggg/index.html',\n",
    " '/bank/cathaybk/deposit/index.asp',\n",
    " '/bank/cathaybk/deposit/account-savings.asp',\n",
    " '/bank/cathaybk/deposit/account-certificate.asp',\n",
    " '/bank/cathaybk/deposit/account-special.asp',\n",
    " '/bank/cathaybk/deposit/rate.asp',\n",
    " 'javascript:',\n",
    " '/bank/cathaybk/house-index.asp',\n",
    " '/bank/cathaybk/credit-happytai.asp',\n",
    " '/bank/cathaybk/other-stock.asp',\n",
    " '/bank/cathaybk/exchange/index.asp',\n",
    " '/bank/cathaybk/exchange/currency-billboard.asp',\n",
    " '/bank/cathaybk/exchange/account.asp',\n",
    " '/bank/cathaybk/exchange/remittance-inward.asp',\n",
    " '/bank/cathaybk/exchange/checks.asp',\n",
    " '/bank/cathaybk/exchange/others-dbu.asp',\n",
    " '/bank/cathaybk/obu/index_personal.asp',\n",
    " '/bank/cathaybk/life/index.asp',\n",
    " '/bank/cathaybk/life/index.asp',\n",
    " '/bank/cathaybk/insurance/index.asp',\n",
    " '/bank/cathaybk/vip/myvip_index.asp',\n",
    " '/bank/cathaybk/vip/myvip_1_1_1.asp',\n",
    " '/bank/cathaybk/vip/myvip_1_05.asp',\n",
    " '/bank/cathaybk/vip/myvip_1_02.asp',\n",
    " '/bank/cathaybk/vip/myvip_2_1_1.asp',\n",
    " '/bank/cathaybk/vip/myvip_index.asp',\n",
    " '/bank/cathaybk/vip/myvip_3_01.asp',\n",
    " '/bank/cathaybk/trust/trust_2_1_1.asp',\n",
    " '/bank/cathaybk/personal_marketing_securities.asp',\n",
    " 'https://www.mybank.com.tw/mybank/',\n",
    " 'javascript:void(0);',\n",
    " 'tel:+8860800818001',\n",
    " 'tel:+886223831000',\n",
    " '#',\n",
    " 'https://www.facebook.com/cathayunitedbank',\n",
    " 'https://www.youtube.com/user/cathayunitedbank/',\n",
    " 'about_creditcard.asp',\n",
    " 'about_finarpt.asp',\n",
    " 'index_environment.asp',\n",
    " 'about_safe.asp',\n",
    " 'set-browser.asp',\n",
    " 'https://www.cathaybk.com.tw/cathaybk/OnlineLoan_index.asp',\n",
    " 'https://www.mybank.com.tw/mybank/',\n",
    " 'credit-reserve.asp',\n",
    " '/bank/cathaybk/Online_Confirm_Card.asp',\n",
    " '/bank/cathaybk/Online_Confirm_Acct.asp',\n",
    " 'Online_Confirm_Srarch_Card.asp',\n",
    " 'Online_Confirm_Srarch_Acct.asp']"
   ]
  },
  {
   "cell_type": "code",
   "execution_count": 6,
   "metadata": {
    "collapsed": true
   },
   "outputs": [],
   "source": [
    "domainset = set()\n",
    "for link in cathay:\n",
    "    if ('http://' in link or 'https://' in link):\n",
    "        domain = link.split('/')[2].split('.', 1)[1]\n",
    "        domainset.add(domain)"
   ]
  },
  {
   "cell_type": "code",
   "execution_count": 8,
   "metadata": {
    "collapsed": false
   },
   "outputs": [
    {
     "name": "stdout",
     "output_type": "stream",
     "text": [
      "{'youtube.com', 'mybank.com.tw', 'kokobank.com', 'facebook.com', 'cathaybk.com.tw', 'globalmyb2b.com', 'cathayholdings.com'}\n"
     ]
    }
   ],
   "source": [
    "print(domainset)"
   ]
  },
  {
   "cell_type": "code",
   "execution_count": 15,
   "metadata": {
    "collapsed": true
   },
   "outputs": [],
   "source": [
    "cathayholding = set()\n",
    "cathayholding.add('cathayholdings.com')"
   ]
  },
  {
   "cell_type": "code",
   "execution_count": 16,
   "metadata": {
    "collapsed": false
   },
   "outputs": [
    {
     "name": "stdout",
     "output_type": "stream",
     "text": [
      "{'youtube.com', 'mybank.com.tw', 'kokobank.com', 'facebook.com', 'cathaybk.com.tw', 'globalmyb2b.com', 'cathayholdings.com'}\n"
     ]
    }
   ],
   "source": [
    "print(domainset)"
   ]
  },
  {
   "cell_type": "code",
   "execution_count": 17,
   "metadata": {
    "collapsed": false
   },
   "outputs": [
    {
     "name": "stdout",
     "output_type": "stream",
     "text": [
      "{'cathayholdings.com'}\n"
     ]
    }
   ],
   "source": [
    "print(cathayholding)"
   ]
  },
  {
   "cell_type": "markdown",
   "metadata": {},
   "source": [
    "### 取差集"
   ]
  },
  {
   "cell_type": "code",
   "execution_count": 20,
   "metadata": {
    "collapsed": false
   },
   "outputs": [
    {
     "name": "stdout",
     "output_type": "stream",
     "text": [
      "{'youtube.com', 'mybank.com.tw', 'kokobank.com', 'facebook.com', 'cathaybk.com.tw', 'globalmyb2b.com'}\n"
     ]
    }
   ],
   "source": [
    "print(domainset - cathayholding) # 使用 - 取差集"
   ]
  },
  {
   "cell_type": "code",
   "execution_count": 21,
   "metadata": {
    "collapsed": false
   },
   "outputs": [
    {
     "name": "stdout",
     "output_type": "stream",
     "text": [
      "{'youtube.com', 'mybank.com.tw', 'kokobank.com', 'facebook.com', 'cathaybk.com.tw', 'globalmyb2b.com'}\n"
     ]
    }
   ],
   "source": [
    "print(domainset.difference(cathayholding)) # 使用 difference 取差集"
   ]
  },
  {
   "cell_type": "markdown",
   "metadata": {},
   "source": [
    "### 取交集"
   ]
  },
  {
   "cell_type": "code",
   "execution_count": 22,
   "metadata": {
    "collapsed": false
   },
   "outputs": [],
   "source": [
    "#dir(domainset)"
   ]
  },
  {
   "cell_type": "code",
   "execution_count": 23,
   "metadata": {
    "collapsed": false
   },
   "outputs": [
    {
     "name": "stdout",
     "output_type": "stream",
     "text": [
      "{'cathayholdings.com'}\n"
     ]
    }
   ],
   "source": [
    "print(domainset.intersection(cathayholding))"
   ]
  },
  {
   "cell_type": "markdown",
   "metadata": {},
   "source": [
    "### 取聯集"
   ]
  },
  {
   "cell_type": "code",
   "execution_count": 24,
   "metadata": {
    "collapsed": false
   },
   "outputs": [
    {
     "name": "stdout",
     "output_type": "stream",
     "text": [
      "{'youtube.com', 'facebook.com', 'mybank.com.tw', 'kokobank.com', 'cathaybk.com.tw', 'globalmyb2b.com', 'cathayholdings.com'}\n"
     ]
    }
   ],
   "source": [
    "print(domainset.union(cathayholding))"
   ]
  },
  {
   "cell_type": "markdown",
   "metadata": {},
   "source": [
    "### 可以將一個list 轉為 set\n"
   ]
  },
  {
   "cell_type": "code",
   "execution_count": 25,
   "metadata": {
    "collapsed": false
   },
   "outputs": [
    {
     "data": {
      "text/plain": [
       "{1, 2, 3, 4, 5, 6}"
      ]
     },
     "execution_count": 25,
     "metadata": {},
     "output_type": "execute_result"
    }
   ],
   "source": [
    "# 可以將一個list 轉為 set\n",
    "l = [1,1,2,2,3,4,5,6,1,1] \n",
    "set(l)"
   ]
  },
  {
   "cell_type": "code",
   "execution_count": 26,
   "metadata": {
    "collapsed": true
   },
   "outputs": [],
   "source": [
    "domainlist = []\n",
    "for link in cathay:\n",
    "    if ('http://' in link or 'https://' in link):\n",
    "        domain = link.split('/')[2].split('.', 1)[1]\n",
    "        domainlist.append(domain)"
   ]
  },
  {
   "cell_type": "code",
   "execution_count": 30,
   "metadata": {
    "collapsed": false
   },
   "outputs": [
    {
     "data": {
      "text/plain": [
       "{'cathaybk.com.tw',\n",
       " 'facebook.com',\n",
       " 'globalmyb2b.com',\n",
       " 'kokobank.com',\n",
       " 'mybank.com.tw',\n",
       " 'youtube.com'}"
      ]
     },
     "execution_count": 30,
     "metadata": {},
     "output_type": "execute_result"
    }
   ],
   "source": [
    "set(domainlist) - set(['cathayholdings.com'])"
   ]
  },
  {
   "cell_type": "markdown",
   "metadata": {},
   "source": [
    "## Python 運算式"
   ]
  },
  {
   "cell_type": "code",
   "execution_count": 31,
   "metadata": {
    "collapsed": true
   },
   "outputs": [],
   "source": [
    "a = 5\n",
    "b = 3"
   ]
  },
  {
   "cell_type": "code",
   "execution_count": 32,
   "metadata": {
    "collapsed": false
   },
   "outputs": [
    {
     "data": {
      "text/plain": [
       "True"
      ]
     },
     "execution_count": 32,
     "metadata": {},
     "output_type": "execute_result"
    }
   ],
   "source": [
    "a > b # Return True"
   ]
  },
  {
   "cell_type": "code",
   "execution_count": 34,
   "metadata": {
    "collapsed": false
   },
   "outputs": [
    {
     "data": {
      "text/plain": [
       "False"
      ]
     },
     "execution_count": 34,
     "metadata": {},
     "output_type": "execute_result"
    }
   ],
   "source": [
    "b > a # Return False"
   ]
  },
  {
   "cell_type": "code",
   "execution_count": 35,
   "metadata": {
    "collapsed": false
   },
   "outputs": [
    {
     "ename": "NameError",
     "evalue": "name 'true' is not defined",
     "output_type": "error",
     "traceback": [
      "\u001b[1;31m---------------------------------------------------------------------------\u001b[0m",
      "\u001b[1;31mNameError\u001b[0m                                 Traceback (most recent call last)",
      "\u001b[1;32m<ipython-input-35-8e244a376571>\u001b[0m in \u001b[0;36m<module>\u001b[1;34m()\u001b[0m\n\u001b[1;32m----> 1\u001b[1;33m \u001b[0ma\u001b[0m \u001b[1;33m=\u001b[0m \u001b[0mtrue\u001b[0m\u001b[1;33m\u001b[0m\u001b[0m\n\u001b[0m",
      "\u001b[1;31mNameError\u001b[0m: name 'true' is not defined"
     ]
    }
   ],
   "source": [
    "a = true"
   ]
  },
  {
   "cell_type": "code",
   "execution_count": 36,
   "metadata": {
    "collapsed": true
   },
   "outputs": [],
   "source": [
    "a = True\n",
    "b = False"
   ]
  },
  {
   "cell_type": "code",
   "execution_count": 38,
   "metadata": {
    "collapsed": false
   },
   "outputs": [
    {
     "data": {
      "text/plain": [
       "False"
      ]
     },
     "execution_count": 38,
     "metadata": {},
     "output_type": "execute_result"
    }
   ],
   "source": [
    "a == b # == equal"
   ]
  },
  {
   "cell_type": "code",
   "execution_count": 39,
   "metadata": {
    "collapsed": false
   },
   "outputs": [
    {
     "data": {
      "text/plain": [
       "True"
      ]
     },
     "execution_count": 39,
     "metadata": {},
     "output_type": "execute_result"
    }
   ],
   "source": [
    "a != b # != not equal"
   ]
  },
  {
   "cell_type": "code",
   "execution_count": 41,
   "metadata": {
    "collapsed": false
   },
   "outputs": [
    {
     "name": "stdout",
     "output_type": "stream",
     "text": [
      "False\n",
      "<class 'bool'>\n"
     ]
    }
   ],
   "source": [
    "#將結果指回c\n",
    "c = a == b\n",
    "print(c)\n",
    "print(type(c))"
   ]
  },
  {
   "cell_type": "code",
   "execution_count": 44,
   "metadata": {
    "collapsed": false
   },
   "outputs": [
    {
     "name": "stdout",
     "output_type": "stream",
     "text": [
      "True\n",
      "False\n"
     ]
    }
   ],
   "source": [
    "print(a)\n",
    "print(not a) # change boolean value True => False, False => True"
   ]
  },
  {
   "cell_type": "code",
   "execution_count": 45,
   "metadata": {
    "collapsed": false
   },
   "outputs": [
    {
     "data": {
      "text/plain": [
       "True"
      ]
     },
     "execution_count": 45,
     "metadata": {},
     "output_type": "execute_result"
    }
   ],
   "source": [
    "not a == b"
   ]
  },
  {
   "cell_type": "code",
   "execution_count": 46,
   "metadata": {
    "collapsed": true
   },
   "outputs": [],
   "source": [
    "c = not a == b"
   ]
  },
  {
   "cell_type": "code",
   "execution_count": 47,
   "metadata": {
    "collapsed": false
   },
   "outputs": [
    {
     "name": "stdout",
     "output_type": "stream",
     "text": [
      "True\n"
     ]
    }
   ],
   "source": [
    "print(c)"
   ]
  },
  {
   "cell_type": "code",
   "execution_count": 55,
   "metadata": {
    "collapsed": false
   },
   "outputs": [
    {
     "name": "stdout",
     "output_type": "stream",
     "text": [
      "<class 'NoneType'>\n"
     ]
    }
   ],
   "source": [
    "a = None\n",
    "b = None\n",
    "print(type(a)) # 檢查型態"
   ]
  },
  {
   "cell_type": "code",
   "execution_count": 50,
   "metadata": {
    "collapsed": false
   },
   "outputs": [
    {
     "data": {
      "text/plain": [
       "True"
      ]
     },
     "execution_count": 50,
     "metadata": {},
     "output_type": "execute_result"
    }
   ],
   "source": [
    "a == b"
   ]
  },
  {
   "cell_type": "code",
   "execution_count": 51,
   "metadata": {
    "collapsed": false
   },
   "outputs": [
    {
     "data": {
      "text/plain": [
       "False"
      ]
     },
     "execution_count": 51,
     "metadata": {},
     "output_type": "execute_result"
    }
   ],
   "source": [
    "not a  == b"
   ]
  },
  {
   "cell_type": "code",
   "execution_count": 52,
   "metadata": {
    "collapsed": false
   },
   "outputs": [
    {
     "data": {
      "text/plain": [
       "True"
      ]
     },
     "execution_count": 52,
     "metadata": {},
     "output_type": "execute_result"
    }
   ],
   "source": [
    "not a"
   ]
  },
  {
   "cell_type": "code",
   "execution_count": 54,
   "metadata": {
    "collapsed": false
   },
   "outputs": [
    {
     "name": "stdout",
     "output_type": "stream",
     "text": [
      "<class 'bool'>\n"
     ]
    }
   ],
   "source": [
    "print(type(not a))"
   ]
  },
  {
   "cell_type": "code",
   "execution_count": 57,
   "metadata": {
    "collapsed": false
   },
   "outputs": [
    {
     "ename": "IndentationError",
     "evalue": "expected an indented block (<ipython-input-57-e3ff60e0f24e>, line 4)",
     "output_type": "error",
     "traceback": [
      "\u001b[1;36m  File \u001b[1;32m\"<ipython-input-57-e3ff60e0f24e>\"\u001b[1;36m, line \u001b[1;32m4\u001b[0m\n\u001b[1;33m    print('hello')\u001b[0m\n\u001b[1;37m        ^\u001b[0m\n\u001b[1;31mIndentationError\u001b[0m\u001b[1;31m:\u001b[0m expected an indented block\n"
     ]
    }
   ],
   "source": [
    "a = 5\n",
    "b = 3\n",
    "if a>b:\n",
    "print('hello')"
   ]
  },
  {
   "cell_type": "code",
   "execution_count": 62,
   "metadata": {
    "collapsed": false
   },
   "outputs": [
    {
     "name": "stdout",
     "output_type": "stream",
     "text": [
      "hello\n"
     ]
    }
   ],
   "source": [
    "a = 5\n",
    "b = 3\n",
    "if a>b:\n",
    "                                                            print('hello')"
   ]
  },
  {
   "cell_type": "code",
   "execution_count": 63,
   "metadata": {
    "collapsed": false
   },
   "outputs": [
    {
     "ename": "IndentationError",
     "evalue": "unexpected indent (<ipython-input-63-af716fe61564>, line 5)",
     "output_type": "error",
     "traceback": [
      "\u001b[1;36m  File \u001b[1;32m\"<ipython-input-63-af716fe61564>\"\u001b[1;36m, line \u001b[1;32m5\u001b[0m\n\u001b[1;33m    print(b)\u001b[0m\n\u001b[1;37m    ^\u001b[0m\n\u001b[1;31mIndentationError\u001b[0m\u001b[1;31m:\u001b[0m unexpected indent\n"
     ]
    }
   ],
   "source": [
    "a = 5\n",
    "b = 3\n",
    "if a>b:\n",
    " print(a)\n",
    "  print(b)"
   ]
  },
  {
   "cell_type": "code",
   "execution_count": 64,
   "metadata": {
    "collapsed": false
   },
   "outputs": [
    {
     "name": "stdout",
     "output_type": "stream",
     "text": [
      "5\n",
      "3\n"
     ]
    }
   ],
   "source": [
    "a = 5\n",
    "b = 3\n",
    "if a>b:\n",
    "                   print(a)\n",
    "                   print(b)"
   ]
  },
  {
   "cell_type": "code",
   "execution_count": 65,
   "metadata": {
    "collapsed": true
   },
   "outputs": [],
   "source": [
    "a = 5\n",
    "b = 3\n",
    "if a>b:\n",
    "    if b > a:\n",
    "        if a> b:\n",
    "            for i in range(1,100):\n",
    "                if a > b:\n",
    "                    print('hello')"
   ]
  },
  {
   "cell_type": "markdown",
   "metadata": {},
   "source": [
    "## The zen of python"
   ]
  },
  {
   "cell_type": "code",
   "execution_count": 69,
   "metadata": {
    "collapsed": false
   },
   "outputs": [],
   "source": [
    "import this"
   ]
  },
  {
   "cell_type": "markdown",
   "metadata": {},
   "source": [
    "## If, elif, else 陳述"
   ]
  },
  {
   "cell_type": "code",
   "execution_count": 70,
   "metadata": {
    "collapsed": false
   },
   "outputs": [
    {
     "name": "stdout",
     "output_type": "stream",
     "text": [
      "this is true\n"
     ]
    }
   ],
   "source": [
    "if True:\n",
    "    print('this is true')"
   ]
  },
  {
   "cell_type": "code",
   "execution_count": 72,
   "metadata": {
    "collapsed": false
   },
   "outputs": [
    {
     "name": "stdout",
     "output_type": "stream",
     "text": [
      "this is true\n"
     ]
    }
   ],
   "source": [
    "a  = 5  \n",
    "b  = 3\n",
    "if a > b: # a > b return True\n",
    "    print ('this is true')"
   ]
  },
  {
   "cell_type": "code",
   "execution_count": 76,
   "metadata": {
    "collapsed": false
   },
   "outputs": [
    {
     "name": "stdout",
     "output_type": "stream",
     "text": [
      "I will be printed in any case where x is not true\n"
     ]
    }
   ],
   "source": [
    "x = False \n",
    "\n",
    "if x: # x is true\n",
    "    print('x was True!') \n",
    "else: # if x is false\n",
    "    print('I will be printed in any case where x is not true')"
   ]
  },
  {
   "cell_type": "code",
   "execution_count": 80,
   "metadata": {
    "collapsed": false
   },
   "outputs": [
    {
     "name": "stdout",
     "output_type": "stream",
     "text": [
      "Welcome to the bank!\n"
     ]
    }
   ],
   "source": [
    "loc = 'Bank' \n",
    "\n",
    "if loc == 'Auto Shop': # False\n",
    "    print('Welcome to the Auto Shop!')\n",
    "elif loc == 'Bank': # True\n",
    "    print('Welcome to the bank!') \n",
    "else: \n",
    "    print('Where are you?')"
   ]
  },
  {
   "cell_type": "code",
   "execution_count": null,
   "metadata": {
    "collapsed": true
   },
   "outputs": [],
   "source": []
  }
 ],
 "metadata": {
  "kernelspec": {
   "display_name": "Python [Root]",
   "language": "python",
   "name": "Python [Root]"
  },
  "language_info": {
   "codemirror_mode": {
    "name": "ipython",
    "version": 3
   },
   "file_extension": ".py",
   "mimetype": "text/x-python",
   "name": "python",
   "nbconvert_exporter": "python",
   "pygments_lexer": "ipython3",
   "version": "3.5.2"
  }
 },
 "nbformat": 4,
 "nbformat_minor": 0
}
