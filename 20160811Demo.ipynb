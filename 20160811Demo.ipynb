{
 "cells": [
  {
   "cell_type": "markdown",
   "metadata": {},
   "source": [
    "## 集合"
   ]
  },
  {
   "cell_type": "code",
   "execution_count": 1,
   "metadata": {
    "collapsed": true
   },
   "outputs": [],
   "source": [
    "x = set()"
   ]
  },
  {
   "cell_type": "code",
   "execution_count": 2,
   "metadata": {
    "collapsed": false
   },
   "outputs": [
    {
     "data": {
      "text/plain": [
       "['__and__',\n",
       " '__class__',\n",
       " '__contains__',\n",
       " '__delattr__',\n",
       " '__dir__',\n",
       " '__doc__',\n",
       " '__eq__',\n",
       " '__format__',\n",
       " '__ge__',\n",
       " '__getattribute__',\n",
       " '__gt__',\n",
       " '__hash__',\n",
       " '__iand__',\n",
       " '__init__',\n",
       " '__ior__',\n",
       " '__isub__',\n",
       " '__iter__',\n",
       " '__ixor__',\n",
       " '__le__',\n",
       " '__len__',\n",
       " '__lt__',\n",
       " '__ne__',\n",
       " '__new__',\n",
       " '__or__',\n",
       " '__rand__',\n",
       " '__reduce__',\n",
       " '__reduce_ex__',\n",
       " '__repr__',\n",
       " '__ror__',\n",
       " '__rsub__',\n",
       " '__rxor__',\n",
       " '__setattr__',\n",
       " '__sizeof__',\n",
       " '__str__',\n",
       " '__sub__',\n",
       " '__subclasshook__',\n",
       " '__xor__',\n",
       " 'add',\n",
       " 'clear',\n",
       " 'copy',\n",
       " 'difference',\n",
       " 'difference_update',\n",
       " 'discard',\n",
       " 'intersection',\n",
       " 'intersection_update',\n",
       " 'isdisjoint',\n",
       " 'issubset',\n",
       " 'issuperset',\n",
       " 'pop',\n",
       " 'remove',\n",
       " 'symmetric_difference',\n",
       " 'symmetric_difference_update',\n",
       " 'union',\n",
       " 'update']"
      ]
     },
     "execution_count": 2,
     "metadata": {},
     "output_type": "execute_result"
    }
   ],
   "source": [
    "dir(x)"
   ]
  },
  {
   "cell_type": "code",
   "execution_count": 3,
   "metadata": {
    "collapsed": true
   },
   "outputs": [],
   "source": [
    "?x.add"
   ]
  },
  {
   "cell_type": "code",
   "execution_count": 4,
   "metadata": {
    "collapsed": false
   },
   "outputs": [
    {
     "name": "stdout",
     "output_type": "stream",
     "text": [
      "{1}\n",
      "{1, 2}\n",
      "{1, 2}\n"
     ]
    }
   ],
   "source": [
    "x.add(1)\n",
    "print(x)\n",
    "\n",
    "x.add(2)\n",
    "print(x)\n",
    "\n",
    "x.add(1)\n",
    "print(x)"
   ]
  },
  {
   "cell_type": "code",
   "execution_count": 5,
   "metadata": {
    "collapsed": true
   },
   "outputs": [],
   "source": [
    "cathay = ['https://www.cathayholdings.com/holdings',\n",
    " 'https://www.cathayholdings.com/life',\n",
    " 'https://www.cathayholdings.com/bank',\n",
    " 'https://www.cathayholdings.com/insurance',\n",
    " 'https://www.cathayholdings.com/securities',\n",
    " 'https://www.cathayholdings.com/funds',\n",
    " 'https://www.cathayholdings.com/consulting',\n",
    " 'english/eindex.htm',\n",
    " 'about_intro01.asp',\n",
    " 'about_query01.asp',\n",
    " '/bank/cathaybk/contact/index.asp',\n",
    " 'join/index.asp',\n",
    " 'sitemap.asp',\n",
    " 'https://accessibility.cathaybk.com.tw/',\n",
    " '#',\n",
    " 'index.asp',\n",
    " '/bank/cathaybk/index.asp',\n",
    " '/bank/cathaybk/corp/index.asp',\n",
    " '/bank/cathaybk/private-bank/default.asp',\n",
    " '/bank/cathaybk/index.asp',\n",
    " 'javascript:',\n",
    " 'card/index.asp',\n",
    " 'card/card/card.asp',\n",
    " 'card/event/2011/travel_1.asp',\n",
    " 'card/card/right/right_1.asp',\n",
    " 'card/event/bonus_index.asp',\n",
    " 'card/event/2012/201203newcard_ggg/index.html',\n",
    " 'https://www.cathayholdings.com/bank/cathaybk/card/event/2012/201203newcard_ggg/index.asp                                                                      ',\n",
    " 'card/index.asp',\n",
    " 'javascript:',\n",
    " '/bank/cathaybk/deposit/account-savings.asp',\n",
    " '/bank/cathaybk/deposit/account-certificate.asp',\n",
    " '/bank/cathaybk/deposit/account-special.asp',\n",
    " '/bank/cathaybk/deposit/rate.asp',\n",
    " 'https://www.cathaybk.com.tw/cathaybk/personal/event/2016/201601/index.htm                                                                             ',\n",
    " '/bank/cathaybk/deposit/index.asp',\n",
    " 'javascript:',\n",
    " 'house-index.asp',\n",
    " 'house-reserve.asp',\n",
    " 'Onlinehouse_index.asp',\n",
    " 'credit-happytai.asp',\n",
    " 'credit-reserve.asp',\n",
    " '#lb_apply_loan_credit',\n",
    " 'other-stock.asp',\n",
    " 'other-reserve.asp?stock',\n",
    " '/bank/cathaybk/loan/event/2016/201604tax/index.asp',\n",
    " 'https://www.cathayholdings.com/bank/cathaybk/credit-happytai.asp                                                                                              ',\n",
    " 'javascript:',\n",
    " '/bank/cathaybk/exchange/currency-billboard.asp',\n",
    " '/bank/cathaybk/exchange/account.asp',\n",
    " '/bank/cathaybk/exchange/remittance-inward.asp',\n",
    " '/bank/cathaybk/exchange/checks.asp',\n",
    " '/bank/cathaybk/exchange/others-dbu.asp',\n",
    " '/bank/cathaybk/obu/index_personal.asp',\n",
    " 'https://www.cathayholdings.com/bank/cathaybk/card/event/2016/MyBill/20160523/card_news1050523_index.asp                                                       ',\n",
    " '/bank/cathaybk/exchange/index.asp',\n",
    " 'javascript:',\n",
    " '/bank/cathaybk/life/index.asp',\n",
    " '/bank/cathaybk/insurance/index.asp',\n",
    " 'https://www.cathayholdings.com/bank/cathaybk/insurance/index.asp                                                                                              ',\n",
    " 'javascript:',\n",
    " 'vip/myvip_1_1_1.asp',\n",
    " 'vip/myvip_1_05.asp',\n",
    " 'vip/myvip_1_02.asp',\n",
    " 'vip/myvip_2_1_1.asp',\n",
    " 'vip/myvip_index.asp',\n",
    " 'vip/myvip_3_01.asp',\n",
    " 'https://www.cathayholdings.com/bank/cathaybk/event/kids/index.htm',\n",
    " 'vip/hotkey_1_1.asp',\n",
    " 'https://www.cathayholdings.com/bank/cathaybk/vip/event/2014/201408Fund/index_B_0.html',\n",
    " '/bank/cathaybk/trust/trust_2_1_1.asp',\n",
    " '/bank/cathaybk/personal_marketing_securities.asp',\n",
    " 'https://www.cathayholdings.com/bank/cathaybk/vip/event/2014/201408Fund/desktop_index.html                                                                     ',\n",
    " 'vip/myvip_index.asp',\n",
    " 'https://www.mybank.com.tw',\n",
    " 'https://www.mybank.com.tw/MyBank/Quicklinks/Outer/HowToApply',\n",
    " 'https://www.mybank.com.tw/MyBank/Quicklinks/Outer/TxnOverViewRst',\n",
    " 'https://www.mybank.com.tw/myatm/cathaybk_myatm.asp',\n",
    " 'https://www.globalmyb2b.com/GEBANK/Login.aspx',\n",
    " 'https://www.cathayholdings.com/bank/cathaybk/trust/event/2016/201602trust/index.asp',\n",
    " 'https://www.cathayholdings.com/bank/cathaybk/credit-happytai.asp',\n",
    " 'https://www.cathayholdings.com/bank/cathaybk/card/card/formosa/index.html',\n",
    " 'https://www.kokobank.com/KOKO?utm_source=CUBbigbanner&utm_medium=banner&utm_campaign=KOKOoda',\n",
    " 'https://www.cathayholdings.com/bank/cathaybk/card/event/2016/MyBill/20160523/card_news1050523_index.asp',\n",
    " 'javascript:',\n",
    " 'javascript:',\n",
    " 'javascript:',\n",
    " 'javascript:',\n",
    " 'javascript:',\n",
    " 'javascript:Reset_ValidCode();',\n",
    " 'personal_info07.asp',\n",
    " 'personal_info05.asp',\n",
    " 'https://www.cathaybk.com.tw/cathaybk/dsa/openaccount/intro/index.aspx',\n",
    " 'https://www.cathaybk.com.tw/cathaybk/card/MyBill/index.asp',\n",
    " 'javascript:',\n",
    " '#lb_apply_loan_credit',\n",
    " 'https://www.cathaybk.com.tw/cathaybk/OnlineLoan_schedule.asp',\n",
    " '#lb_apply_loan_credit_02',\n",
    " '#lb_apply_loan_credit_03',\n",
    " 'Onlinehouse_index.asp',\n",
    " 'javascript:',\n",
    " 'https://www.cathaybk.com.tw/cathaybk/OnlineLoan_card_apply.asp',\n",
    " 'Online_ActivateCardForm.asp',\n",
    " 'Online_RecommendCardForm.asp',\n",
    " 'https://www.cathaybk.com.tw/cathaybk/contact.asp',\n",
    " 'https://www.kokobank.com/KOKO?utm_source=CUBindex&utm_medium=Banner&utm_campaign=CUBindex',\n",
    " 'mmb/index.asp',\n",
    " 'e_service/linepay/event/2015/201506linepay/index.asp',\n",
    " 'https://www.cathaybk.com.tw/cathaybk/e_service/MyMobiBank/event/2015/201502mmb_push/index.asp',\n",
    " 'https://www.cathaybk.com.tw/cathaybk/personal/event/2016/201601/index.htm#a04',\n",
    " 'https://www.cathayholdings.com/bank/cathaybk/enterprise/pdf/pdf34.pdf',\n",
    " 'https://www.cathayholdings.com/bank/cathaybk/enterprise/pdf/pdf33.pdf',\n",
    " 'https://www.cathayholdings.com/bank/cathaybk/enterprise/pdf/pdf32.pdf',\n",
    " 'https://www.cathayholdings.com/bank/cathaybk/enterprise/pdf/pdf31.pdf',\n",
    " 'https://www.cathayholdings.com/bank/cathaybk/enterprise/pdf/pdf30.pdf',\n",
    " 'https://www.cathayholdings.com/bank/cathaybk/vip/myvip_news1050628.asp',\n",
    " 'https://www.cathayholdings.com/bank/cathaybk/doc/cathay20160705.pdf',\n",
    " 'https://www.cathayholdings.com/bank/cathaybk/about_news1050628.asp',\n",
    " 'https://www.cathayholdings.com/bank/cathaybk/about_news1040511.asp',\n",
    " 'news-list.asp',\n",
    " 'https://www.cathaybk.com.tw/cathaybk/personal/event/2016/201601/index.htm',\n",
    " 'https://www.cathayholdings.com/bank/cathaybk/trust/event/2016/201602trust/index.asp',\n",
    " 'https://www.cathayholdings.com/bank/cathaybk/trust_fund_event201606.asp',\n",
    " 'https://www.cathayholdings.com/bank/cathaybk/credit-happytai.asp',\n",
    " 'https://www.kokobank.com/KOKO?utm_source=CUBsmallbanner&utm_medium=banner&utm_campaign=KOKOoda',\n",
    " 'javascript:',\n",
    " '/bank/cathaybk/card/index.asp',\n",
    " '/bank/cathaybk/card/card/card.asp',\n",
    " '/bank/cathaybk/card/news_list.asp',\n",
    " '/bank/cathaybk/card/card/right/right_1.asp',\n",
    " '/bank/cathaybk/card/event/bonus/bonus_2.asp',\n",
    " '/bank/cathaybk/card/event/2012/201203newcard_ggg/index.html',\n",
    " '/bank/cathaybk/deposit/index.asp',\n",
    " '/bank/cathaybk/deposit/account-savings.asp',\n",
    " '/bank/cathaybk/deposit/account-certificate.asp',\n",
    " '/bank/cathaybk/deposit/account-special.asp',\n",
    " '/bank/cathaybk/deposit/rate.asp',\n",
    " 'javascript:',\n",
    " '/bank/cathaybk/house-index.asp',\n",
    " '/bank/cathaybk/credit-happytai.asp',\n",
    " '/bank/cathaybk/other-stock.asp',\n",
    " '/bank/cathaybk/exchange/index.asp',\n",
    " '/bank/cathaybk/exchange/currency-billboard.asp',\n",
    " '/bank/cathaybk/exchange/account.asp',\n",
    " '/bank/cathaybk/exchange/remittance-inward.asp',\n",
    " '/bank/cathaybk/exchange/checks.asp',\n",
    " '/bank/cathaybk/exchange/others-dbu.asp',\n",
    " '/bank/cathaybk/obu/index_personal.asp',\n",
    " '/bank/cathaybk/life/index.asp',\n",
    " '/bank/cathaybk/life/index.asp',\n",
    " '/bank/cathaybk/insurance/index.asp',\n",
    " '/bank/cathaybk/vip/myvip_index.asp',\n",
    " '/bank/cathaybk/vip/myvip_1_1_1.asp',\n",
    " '/bank/cathaybk/vip/myvip_1_05.asp',\n",
    " '/bank/cathaybk/vip/myvip_1_02.asp',\n",
    " '/bank/cathaybk/vip/myvip_2_1_1.asp',\n",
    " '/bank/cathaybk/vip/myvip_index.asp',\n",
    " '/bank/cathaybk/vip/myvip_3_01.asp',\n",
    " '/bank/cathaybk/trust/trust_2_1_1.asp',\n",
    " '/bank/cathaybk/personal_marketing_securities.asp',\n",
    " 'https://www.mybank.com.tw/mybank/',\n",
    " 'javascript:void(0);',\n",
    " 'tel:+8860800818001',\n",
    " 'tel:+886223831000',\n",
    " '#',\n",
    " 'https://www.facebook.com/cathayunitedbank',\n",
    " 'https://www.youtube.com/user/cathayunitedbank/',\n",
    " 'about_creditcard.asp',\n",
    " 'about_finarpt.asp',\n",
    " 'index_environment.asp',\n",
    " 'about_safe.asp',\n",
    " 'set-browser.asp',\n",
    " 'https://www.cathaybk.com.tw/cathaybk/OnlineLoan_index.asp',\n",
    " 'https://www.mybank.com.tw/mybank/',\n",
    " 'credit-reserve.asp',\n",
    " '/bank/cathaybk/Online_Confirm_Card.asp',\n",
    " '/bank/cathaybk/Online_Confirm_Acct.asp',\n",
    " 'Online_Confirm_Srarch_Card.asp',\n",
    " 'Online_Confirm_Srarch_Acct.asp']"
   ]
  },
  {
   "cell_type": "code",
   "execution_count": 6,
   "metadata": {
    "collapsed": true
   },
   "outputs": [],
   "source": [
    "domainset = set()\n",
    "for link in cathay:\n",
    "    if ('http://' in link or 'https://' in link):\n",
    "        domain = link.split('/')[2].split('.', 1)[1]\n",
    "        domainset.add(domain)"
   ]
  },
  {
   "cell_type": "code",
   "execution_count": 8,
   "metadata": {
    "collapsed": false
   },
   "outputs": [
    {
     "name": "stdout",
     "output_type": "stream",
     "text": [
      "{'youtube.com', 'mybank.com.tw', 'kokobank.com', 'facebook.com', 'cathaybk.com.tw', 'globalmyb2b.com', 'cathayholdings.com'}\n"
     ]
    }
   ],
   "source": [
    "print(domainset)"
   ]
  },
  {
   "cell_type": "code",
   "execution_count": 15,
   "metadata": {
    "collapsed": true
   },
   "outputs": [],
   "source": [
    "cathayholding = set()\n",
    "cathayholding.add('cathayholdings.com')"
   ]
  },
  {
   "cell_type": "code",
   "execution_count": 16,
   "metadata": {
    "collapsed": false
   },
   "outputs": [
    {
     "name": "stdout",
     "output_type": "stream",
     "text": [
      "{'youtube.com', 'mybank.com.tw', 'kokobank.com', 'facebook.com', 'cathaybk.com.tw', 'globalmyb2b.com', 'cathayholdings.com'}\n"
     ]
    }
   ],
   "source": [
    "print(domainset)"
   ]
  },
  {
   "cell_type": "code",
   "execution_count": 17,
   "metadata": {
    "collapsed": false
   },
   "outputs": [
    {
     "name": "stdout",
     "output_type": "stream",
     "text": [
      "{'cathayholdings.com'}\n"
     ]
    }
   ],
   "source": [
    "print(cathayholding)"
   ]
  },
  {
   "cell_type": "markdown",
   "metadata": {},
   "source": [
    "### 取差集"
   ]
  },
  {
   "cell_type": "code",
   "execution_count": 20,
   "metadata": {
    "collapsed": false
   },
   "outputs": [
    {
     "name": "stdout",
     "output_type": "stream",
     "text": [
      "{'youtube.com', 'mybank.com.tw', 'kokobank.com', 'facebook.com', 'cathaybk.com.tw', 'globalmyb2b.com'}\n"
     ]
    }
   ],
   "source": [
    "print(domainset - cathayholding) # 使用 - 取差集"
   ]
  },
  {
   "cell_type": "code",
   "execution_count": 21,
   "metadata": {
    "collapsed": false
   },
   "outputs": [
    {
     "name": "stdout",
     "output_type": "stream",
     "text": [
      "{'youtube.com', 'mybank.com.tw', 'kokobank.com', 'facebook.com', 'cathaybk.com.tw', 'globalmyb2b.com'}\n"
     ]
    }
   ],
   "source": [
    "print(domainset.difference(cathayholding)) # 使用 difference 取差集"
   ]
  },
  {
   "cell_type": "markdown",
   "metadata": {},
   "source": [
    "### 取交集"
   ]
  },
  {
   "cell_type": "code",
   "execution_count": 22,
   "metadata": {
    "collapsed": false
   },
   "outputs": [],
   "source": [
    "#dir(domainset)"
   ]
  },
  {
   "cell_type": "code",
   "execution_count": 23,
   "metadata": {
    "collapsed": false
   },
   "outputs": [
    {
     "name": "stdout",
     "output_type": "stream",
     "text": [
      "{'cathayholdings.com'}\n"
     ]
    }
   ],
   "source": [
    "print(domainset.intersection(cathayholding))"
   ]
  },
  {
   "cell_type": "markdown",
   "metadata": {},
   "source": [
    "### 取聯集"
   ]
  },
  {
   "cell_type": "code",
   "execution_count": 24,
   "metadata": {
    "collapsed": false
   },
   "outputs": [
    {
     "name": "stdout",
     "output_type": "stream",
     "text": [
      "{'youtube.com', 'facebook.com', 'mybank.com.tw', 'kokobank.com', 'cathaybk.com.tw', 'globalmyb2b.com', 'cathayholdings.com'}\n"
     ]
    }
   ],
   "source": [
    "print(domainset.union(cathayholding))"
   ]
  },
  {
   "cell_type": "markdown",
   "metadata": {},
   "source": [
    "### 可以將一個list 轉為 set\n"
   ]
  },
  {
   "cell_type": "code",
   "execution_count": 25,
   "metadata": {
    "collapsed": false
   },
   "outputs": [
    {
     "data": {
      "text/plain": [
       "{1, 2, 3, 4, 5, 6}"
      ]
     },
     "execution_count": 25,
     "metadata": {},
     "output_type": "execute_result"
    }
   ],
   "source": [
    "# 可以將一個list 轉為 set\n",
    "l = [1,1,2,2,3,4,5,6,1,1] \n",
    "set(l)"
   ]
  },
  {
   "cell_type": "code",
   "execution_count": 26,
   "metadata": {
    "collapsed": true
   },
   "outputs": [],
   "source": [
    "domainlist = []\n",
    "for link in cathay:\n",
    "    if ('http://' in link or 'https://' in link):\n",
    "        domain = link.split('/')[2].split('.', 1)[1]\n",
    "        domainlist.append(domain)"
   ]
  },
  {
   "cell_type": "code",
   "execution_count": 30,
   "metadata": {
    "collapsed": false
   },
   "outputs": [
    {
     "data": {
      "text/plain": [
       "{'cathaybk.com.tw',\n",
       " 'facebook.com',\n",
       " 'globalmyb2b.com',\n",
       " 'kokobank.com',\n",
       " 'mybank.com.tw',\n",
       " 'youtube.com'}"
      ]
     },
     "execution_count": 30,
     "metadata": {},
     "output_type": "execute_result"
    }
   ],
   "source": [
    "set(domainlist) - set(['cathayholdings.com'])"
   ]
  },
  {
   "cell_type": "markdown",
   "metadata": {},
   "source": [
    "## Python 運算式"
   ]
  },
  {
   "cell_type": "code",
   "execution_count": 31,
   "metadata": {
    "collapsed": true
   },
   "outputs": [],
   "source": [
    "a = 5\n",
    "b = 3"
   ]
  },
  {
   "cell_type": "code",
   "execution_count": 32,
   "metadata": {
    "collapsed": false
   },
   "outputs": [
    {
     "data": {
      "text/plain": [
       "True"
      ]
     },
     "execution_count": 32,
     "metadata": {},
     "output_type": "execute_result"
    }
   ],
   "source": [
    "a > b # Return True"
   ]
  },
  {
   "cell_type": "code",
   "execution_count": 34,
   "metadata": {
    "collapsed": false
   },
   "outputs": [
    {
     "data": {
      "text/plain": [
       "False"
      ]
     },
     "execution_count": 34,
     "metadata": {},
     "output_type": "execute_result"
    }
   ],
   "source": [
    "b > a # Return False"
   ]
  },
  {
   "cell_type": "code",
   "execution_count": 35,
   "metadata": {
    "collapsed": false
   },
   "outputs": [
    {
     "ename": "NameError",
     "evalue": "name 'true' is not defined",
     "output_type": "error",
     "traceback": [
      "\u001b[1;31m---------------------------------------------------------------------------\u001b[0m",
      "\u001b[1;31mNameError\u001b[0m                                 Traceback (most recent call last)",
      "\u001b[1;32m<ipython-input-35-8e244a376571>\u001b[0m in \u001b[0;36m<module>\u001b[1;34m()\u001b[0m\n\u001b[1;32m----> 1\u001b[1;33m \u001b[0ma\u001b[0m \u001b[1;33m=\u001b[0m \u001b[0mtrue\u001b[0m\u001b[1;33m\u001b[0m\u001b[0m\n\u001b[0m",
      "\u001b[1;31mNameError\u001b[0m: name 'true' is not defined"
     ]
    }
   ],
   "source": [
    "a = true"
   ]
  },
  {
   "cell_type": "code",
   "execution_count": 36,
   "metadata": {
    "collapsed": true
   },
   "outputs": [],
   "source": [
    "a = True\n",
    "b = False"
   ]
  },
  {
   "cell_type": "code",
   "execution_count": 38,
   "metadata": {
    "collapsed": false
   },
   "outputs": [
    {
     "data": {
      "text/plain": [
       "False"
      ]
     },
     "execution_count": 38,
     "metadata": {},
     "output_type": "execute_result"
    }
   ],
   "source": [
    "a == b # == equal"
   ]
  },
  {
   "cell_type": "code",
   "execution_count": 39,
   "metadata": {
    "collapsed": false
   },
   "outputs": [
    {
     "data": {
      "text/plain": [
       "True"
      ]
     },
     "execution_count": 39,
     "metadata": {},
     "output_type": "execute_result"
    }
   ],
   "source": [
    "a != b # != not equal"
   ]
  },
  {
   "cell_type": "code",
   "execution_count": 41,
   "metadata": {
    "collapsed": false
   },
   "outputs": [
    {
     "name": "stdout",
     "output_type": "stream",
     "text": [
      "False\n",
      "<class 'bool'>\n"
     ]
    }
   ],
   "source": [
    "#將結果指回c\n",
    "c = a == b\n",
    "print(c)\n",
    "print(type(c))"
   ]
  },
  {
   "cell_type": "code",
   "execution_count": 44,
   "metadata": {
    "collapsed": false
   },
   "outputs": [
    {
     "name": "stdout",
     "output_type": "stream",
     "text": [
      "True\n",
      "False\n"
     ]
    }
   ],
   "source": [
    "print(a)\n",
    "print(not a) # change boolean value True => False, False => True"
   ]
  },
  {
   "cell_type": "code",
   "execution_count": 45,
   "metadata": {
    "collapsed": false
   },
   "outputs": [
    {
     "data": {
      "text/plain": [
       "True"
      ]
     },
     "execution_count": 45,
     "metadata": {},
     "output_type": "execute_result"
    }
   ],
   "source": [
    "not a == b"
   ]
  },
  {
   "cell_type": "code",
   "execution_count": 46,
   "metadata": {
    "collapsed": true
   },
   "outputs": [],
   "source": [
    "c = not a == b"
   ]
  },
  {
   "cell_type": "code",
   "execution_count": 47,
   "metadata": {
    "collapsed": false
   },
   "outputs": [
    {
     "name": "stdout",
     "output_type": "stream",
     "text": [
      "True\n"
     ]
    }
   ],
   "source": [
    "print(c)"
   ]
  },
  {
   "cell_type": "code",
   "execution_count": 55,
   "metadata": {
    "collapsed": false
   },
   "outputs": [
    {
     "name": "stdout",
     "output_type": "stream",
     "text": [
      "<class 'NoneType'>\n"
     ]
    }
   ],
   "source": [
    "a = None\n",
    "b = None\n",
    "print(type(a)) # 檢查型態"
   ]
  },
  {
   "cell_type": "code",
   "execution_count": 50,
   "metadata": {
    "collapsed": false
   },
   "outputs": [
    {
     "data": {
      "text/plain": [
       "True"
      ]
     },
     "execution_count": 50,
     "metadata": {},
     "output_type": "execute_result"
    }
   ],
   "source": [
    "a == b"
   ]
  },
  {
   "cell_type": "code",
   "execution_count": 51,
   "metadata": {
    "collapsed": false
   },
   "outputs": [
    {
     "data": {
      "text/plain": [
       "False"
      ]
     },
     "execution_count": 51,
     "metadata": {},
     "output_type": "execute_result"
    }
   ],
   "source": [
    "not a  == b"
   ]
  },
  {
   "cell_type": "code",
   "execution_count": 52,
   "metadata": {
    "collapsed": false
   },
   "outputs": [
    {
     "data": {
      "text/plain": [
       "True"
      ]
     },
     "execution_count": 52,
     "metadata": {},
     "output_type": "execute_result"
    }
   ],
   "source": [
    "not a"
   ]
  },
  {
   "cell_type": "code",
   "execution_count": 54,
   "metadata": {
    "collapsed": false
   },
   "outputs": [
    {
     "name": "stdout",
     "output_type": "stream",
     "text": [
      "<class 'bool'>\n"
     ]
    }
   ],
   "source": [
    "print(type(not a))"
   ]
  },
  {
   "cell_type": "code",
   "execution_count": 57,
   "metadata": {
    "collapsed": false
   },
   "outputs": [
    {
     "ename": "IndentationError",
     "evalue": "expected an indented block (<ipython-input-57-e3ff60e0f24e>, line 4)",
     "output_type": "error",
     "traceback": [
      "\u001b[1;36m  File \u001b[1;32m\"<ipython-input-57-e3ff60e0f24e>\"\u001b[1;36m, line \u001b[1;32m4\u001b[0m\n\u001b[1;33m    print('hello')\u001b[0m\n\u001b[1;37m        ^\u001b[0m\n\u001b[1;31mIndentationError\u001b[0m\u001b[1;31m:\u001b[0m expected an indented block\n"
     ]
    }
   ],
   "source": [
    "a = 5\n",
    "b = 3\n",
    "if a>b:\n",
    "print('hello')"
   ]
  },
  {
   "cell_type": "code",
   "execution_count": 62,
   "metadata": {
    "collapsed": false
   },
   "outputs": [
    {
     "name": "stdout",
     "output_type": "stream",
     "text": [
      "hello\n"
     ]
    }
   ],
   "source": [
    "a = 5\n",
    "b = 3\n",
    "if a>b:\n",
    "                                                            print('hello')"
   ]
  },
  {
   "cell_type": "code",
   "execution_count": 63,
   "metadata": {
    "collapsed": false
   },
   "outputs": [
    {
     "ename": "IndentationError",
     "evalue": "unexpected indent (<ipython-input-63-af716fe61564>, line 5)",
     "output_type": "error",
     "traceback": [
      "\u001b[1;36m  File \u001b[1;32m\"<ipython-input-63-af716fe61564>\"\u001b[1;36m, line \u001b[1;32m5\u001b[0m\n\u001b[1;33m    print(b)\u001b[0m\n\u001b[1;37m    ^\u001b[0m\n\u001b[1;31mIndentationError\u001b[0m\u001b[1;31m:\u001b[0m unexpected indent\n"
     ]
    }
   ],
   "source": [
    "a = 5\n",
    "b = 3\n",
    "if a>b:\n",
    " print(a)\n",
    "  print(b)"
   ]
  },
  {
   "cell_type": "code",
   "execution_count": 64,
   "metadata": {
    "collapsed": false
   },
   "outputs": [
    {
     "name": "stdout",
     "output_type": "stream",
     "text": [
      "5\n",
      "3\n"
     ]
    }
   ],
   "source": [
    "a = 5\n",
    "b = 3\n",
    "if a>b:\n",
    "                   print(a)\n",
    "                   print(b)"
   ]
  },
  {
   "cell_type": "code",
   "execution_count": 65,
   "metadata": {
    "collapsed": true
   },
   "outputs": [],
   "source": [
    "a = 5\n",
    "b = 3\n",
    "if a>b:\n",
    "    if b > a:\n",
    "        if a> b:\n",
    "            for i in range(1,100):\n",
    "                if a > b:\n",
    "                    print('hello')"
   ]
  },
  {
   "cell_type": "markdown",
   "metadata": {},
   "source": [
    "## The zen of python"
   ]
  },
  {
   "cell_type": "code",
   "execution_count": 69,
   "metadata": {
    "collapsed": false
   },
   "outputs": [],
   "source": [
    "import this"
   ]
  },
  {
   "cell_type": "markdown",
   "metadata": {},
   "source": [
    "## If, elif, else 陳述"
   ]
  },
  {
   "cell_type": "code",
   "execution_count": 70,
   "metadata": {
    "collapsed": false
   },
   "outputs": [
    {
     "name": "stdout",
     "output_type": "stream",
     "text": [
      "this is true\n"
     ]
    }
   ],
   "source": [
    "if True:\n",
    "    print('this is true')"
   ]
  },
  {
   "cell_type": "code",
   "execution_count": 72,
   "metadata": {
    "collapsed": false
   },
   "outputs": [
    {
     "name": "stdout",
     "output_type": "stream",
     "text": [
      "this is true\n"
     ]
    }
   ],
   "source": [
    "a  = 5  \n",
    "b  = 3\n",
    "if a > b: # a > b return True\n",
    "    print ('this is true')"
   ]
  },
  {
   "cell_type": "code",
   "execution_count": 76,
   "metadata": {
    "collapsed": false
   },
   "outputs": [
    {
     "name": "stdout",
     "output_type": "stream",
     "text": [
      "I will be printed in any case where x is not true\n"
     ]
    }
   ],
   "source": [
    "x = False \n",
    "\n",
    "if x: # x is true\n",
    "    print('x was True!') \n",
    "else: # if x is false\n",
    "    print('I will be printed in any case where x is not true')"
   ]
  },
  {
   "cell_type": "code",
   "execution_count": 80,
   "metadata": {
    "collapsed": false
   },
   "outputs": [
    {
     "name": "stdout",
     "output_type": "stream",
     "text": [
      "Welcome to the bank!\n"
     ]
    }
   ],
   "source": [
    "loc = 'Bank' \n",
    "\n",
    "if loc == 'Auto Shop': # False\n",
    "    print('Welcome to the Auto Shop!')\n",
    "elif loc == 'Bank': # True\n",
    "    print('Welcome to the bank!') \n",
    "else: \n",
    "    print('Where are you?')"
   ]
  },
  {
   "cell_type": "markdown",
   "metadata": {},
   "source": [
    "## For 迴圈 (For Loop)"
   ]
  },
  {
   "cell_type": "code",
   "execution_count": 82,
   "metadata": {
    "collapsed": false
   },
   "outputs": [
    {
     "name": "stdout",
     "output_type": "stream",
     "text": [
      "1\n",
      "2\n",
      "3\n",
      "4\n",
      "5\n",
      "6\n",
      "7\n",
      "8\n",
      "9\n",
      "10\n"
     ]
    }
   ],
   "source": [
    "l = [1,2,3,4,5,6,7,8,9,10]\n",
    "for num in l:\n",
    "    print(num)"
   ]
  },
  {
   "cell_type": "code",
   "execution_count": 88,
   "metadata": {
    "collapsed": false
   },
   "outputs": [
    {
     "name": "stdout",
     "output_type": "stream",
     "text": [
      "range(1, 11)\n"
     ]
    }
   ],
   "source": [
    "print(range(1,11))"
   ]
  },
  {
   "cell_type": "code",
   "execution_count": 90,
   "metadata": {
    "collapsed": false
   },
   "outputs": [
    {
     "name": "stdout",
     "output_type": "stream",
     "text": [
      "1\n",
      "2\n",
      "3\n",
      "4\n",
      "5\n",
      "6\n",
      "7\n",
      "8\n",
      "9\n",
      "10\n"
     ]
    }
   ],
   "source": [
    "for i in range(1,11): # for(i=1; i< 11; i ++)\n",
    "    print(i)"
   ]
  },
  {
   "cell_type": "code",
   "execution_count": 91,
   "metadata": {
    "collapsed": false
   },
   "outputs": [
    {
     "name": "stdout",
     "output_type": "stream",
     "text": [
      "1\n",
      "3\n",
      "5\n",
      "7\n",
      "9\n"
     ]
    }
   ],
   "source": [
    "for i in range(1,11,2): # for(i=1; i< 11; i+=2)\n",
    "    print(i)"
   ]
  },
  {
   "cell_type": "code",
   "execution_count": 92,
   "metadata": {
    "collapsed": false
   },
   "outputs": [
    {
     "name": "stdout",
     "output_type": "stream",
     "text": [
      "55\n"
     ]
    }
   ],
   "source": [
    "list_sum = 0\n",
    "l = [1,2,3,4,5,6,7,8,9,10]\n",
    "for num in l: \n",
    "    list_sum = list_sum + num \n",
    "print(list_sum)"
   ]
  },
  {
   "cell_type": "code",
   "execution_count": 93,
   "metadata": {
    "collapsed": false
   },
   "outputs": [
    {
     "name": "stdout",
     "output_type": "stream",
     "text": [
      "55\n"
     ]
    }
   ],
   "source": [
    "list_sum = 0 \n",
    "for num in l: \n",
    "    list_sum += num #list_sum = list_sum + num\n",
    "print(list_sum)"
   ]
  },
  {
   "cell_type": "code",
   "execution_count": 95,
   "metadata": {
    "collapsed": false
   },
   "outputs": [
    {
     "name": "stdout",
     "output_type": "stream",
     "text": [
      "[1, 2, 3, 4, 5, 6, 7, 8, 9, 10]\n"
     ]
    }
   ],
   "source": [
    "# append item into a list\n",
    "a = []\n",
    "for num in l:\n",
    "    a.append(num)\n",
    "print(a)"
   ]
  },
  {
   "cell_type": "code",
   "execution_count": 97,
   "metadata": {
    "collapsed": false
   },
   "outputs": [
    {
     "name": "stdout",
     "output_type": "stream",
     "text": [
      "[1, 2, 3, 4, 5, 6, 7, 8, 9, 10]\n"
     ]
    }
   ],
   "source": [
    "# 一行文小技巧\n",
    "a = [num for num in l]\n",
    "print(a)"
   ]
  },
  {
   "cell_type": "code",
   "execution_count": 98,
   "metadata": {
    "collapsed": true
   },
   "outputs": [],
   "source": [
    "cathay = ['https://www.cathayholdings.com/holdings',\n",
    " 'https://www.cathayholdings.com/life',\n",
    " 'https://www.cathayholdings.com/bank',\n",
    " 'https://www.cathayholdings.com/insurance',\n",
    " 'https://www.cathayholdings.com/securities',\n",
    " 'https://www.cathayholdings.com/funds',\n",
    " 'https://www.cathayholdings.com/consulting',\n",
    " 'english/eindex.htm',\n",
    " 'about_intro01.asp',\n",
    " 'about_query01.asp',\n",
    " '/bank/cathaybk/contact/index.asp',\n",
    " 'join/index.asp',\n",
    " 'sitemap.asp',\n",
    " 'https://accessibility.cathaybk.com.tw/',\n",
    " '#',\n",
    " 'index.asp',\n",
    " '/bank/cathaybk/index.asp',\n",
    " '/bank/cathaybk/corp/index.asp',\n",
    " '/bank/cathaybk/private-bank/default.asp',\n",
    " '/bank/cathaybk/index.asp',\n",
    " 'javascript:',\n",
    " 'card/index.asp',\n",
    " 'card/card/card.asp',\n",
    " 'card/event/2011/travel_1.asp',\n",
    " 'card/card/right/right_1.asp',\n",
    " 'card/event/bonus_index.asp',\n",
    " 'card/event/2012/201203newcard_ggg/index.html',\n",
    " 'https://www.cathayholdings.com/bank/cathaybk/card/event/2012/201203newcard_ggg/index.asp                                                                      ',\n",
    " 'card/index.asp',\n",
    " 'javascript:',\n",
    " '/bank/cathaybk/deposit/account-savings.asp',\n",
    " '/bank/cathaybk/deposit/account-certificate.asp',\n",
    " '/bank/cathaybk/deposit/account-special.asp',\n",
    " '/bank/cathaybk/deposit/rate.asp',\n",
    " 'https://www.cathaybk.com.tw/cathaybk/personal/event/2016/201601/index.htm                                                                             ',\n",
    " '/bank/cathaybk/deposit/index.asp',\n",
    " 'javascript:',\n",
    " 'house-index.asp',\n",
    " 'house-reserve.asp',\n",
    " 'Onlinehouse_index.asp',\n",
    " 'credit-happytai.asp',\n",
    " 'credit-reserve.asp',\n",
    " '#lb_apply_loan_credit',\n",
    " 'other-stock.asp',\n",
    " 'other-reserve.asp?stock',\n",
    " '/bank/cathaybk/loan/event/2016/201604tax/index.asp',\n",
    " 'https://www.cathayholdings.com/bank/cathaybk/credit-happytai.asp                                                                                              ',\n",
    " 'javascript:',\n",
    " '/bank/cathaybk/exchange/currency-billboard.asp',\n",
    " '/bank/cathaybk/exchange/account.asp',\n",
    " '/bank/cathaybk/exchange/remittance-inward.asp',\n",
    " '/bank/cathaybk/exchange/checks.asp',\n",
    " '/bank/cathaybk/exchange/others-dbu.asp',\n",
    " '/bank/cathaybk/obu/index_personal.asp',\n",
    " 'https://www.cathayholdings.com/bank/cathaybk/card/event/2016/MyBill/20160523/card_news1050523_index.asp                                                       ',\n",
    " '/bank/cathaybk/exchange/index.asp',\n",
    " 'javascript:',\n",
    " '/bank/cathaybk/life/index.asp',\n",
    " '/bank/cathaybk/insurance/index.asp',\n",
    " 'https://www.cathayholdings.com/bank/cathaybk/insurance/index.asp                                                                                              ',\n",
    " 'javascript:',\n",
    " 'vip/myvip_1_1_1.asp',\n",
    " 'vip/myvip_1_05.asp',\n",
    " 'vip/myvip_1_02.asp',\n",
    " 'vip/myvip_2_1_1.asp',\n",
    " 'vip/myvip_index.asp',\n",
    " 'vip/myvip_3_01.asp',\n",
    " 'https://www.cathayholdings.com/bank/cathaybk/event/kids/index.htm',\n",
    " 'vip/hotkey_1_1.asp',\n",
    " 'https://www.cathayholdings.com/bank/cathaybk/vip/event/2014/201408Fund/index_B_0.html',\n",
    " '/bank/cathaybk/trust/trust_2_1_1.asp',\n",
    " '/bank/cathaybk/personal_marketing_securities.asp',\n",
    " 'https://www.cathayholdings.com/bank/cathaybk/vip/event/2014/201408Fund/desktop_index.html                                                                     ',\n",
    " 'vip/myvip_index.asp',\n",
    " 'https://www.mybank.com.tw',\n",
    " 'https://www.mybank.com.tw/MyBank/Quicklinks/Outer/HowToApply',\n",
    " 'https://www.mybank.com.tw/MyBank/Quicklinks/Outer/TxnOverViewRst',\n",
    " 'https://www.mybank.com.tw/myatm/cathaybk_myatm.asp',\n",
    " 'https://www.globalmyb2b.com/GEBANK/Login.aspx',\n",
    " 'https://www.cathayholdings.com/bank/cathaybk/trust/event/2016/201602trust/index.asp',\n",
    " 'https://www.cathayholdings.com/bank/cathaybk/credit-happytai.asp',\n",
    " 'https://www.cathayholdings.com/bank/cathaybk/card/card/formosa/index.html',\n",
    " 'https://www.kokobank.com/KOKO?utm_source=CUBbigbanner&utm_medium=banner&utm_campaign=KOKOoda',\n",
    " 'https://www.cathayholdings.com/bank/cathaybk/card/event/2016/MyBill/20160523/card_news1050523_index.asp',\n",
    " 'javascript:',\n",
    " 'javascript:',\n",
    " 'javascript:',\n",
    " 'javascript:',\n",
    " 'javascript:',\n",
    " 'javascript:Reset_ValidCode();',\n",
    " 'personal_info07.asp',\n",
    " 'personal_info05.asp',\n",
    " 'https://www.cathaybk.com.tw/cathaybk/dsa/openaccount/intro/index.aspx',\n",
    " 'https://www.cathaybk.com.tw/cathaybk/card/MyBill/index.asp',\n",
    " 'javascript:',\n",
    " '#lb_apply_loan_credit',\n",
    " 'https://www.cathaybk.com.tw/cathaybk/OnlineLoan_schedule.asp',\n",
    " '#lb_apply_loan_credit_02',\n",
    " '#lb_apply_loan_credit_03',\n",
    " 'Onlinehouse_index.asp',\n",
    " 'javascript:',\n",
    " 'https://www.cathaybk.com.tw/cathaybk/OnlineLoan_card_apply.asp',\n",
    " 'Online_ActivateCardForm.asp',\n",
    " 'Online_RecommendCardForm.asp',\n",
    " 'https://www.cathaybk.com.tw/cathaybk/contact.asp',\n",
    " 'https://www.kokobank.com/KOKO?utm_source=CUBindex&utm_medium=Banner&utm_campaign=CUBindex',\n",
    " 'mmb/index.asp',\n",
    " 'e_service/linepay/event/2015/201506linepay/index.asp',\n",
    " 'https://www.cathaybk.com.tw/cathaybk/e_service/MyMobiBank/event/2015/201502mmb_push/index.asp',\n",
    " 'https://www.cathaybk.com.tw/cathaybk/personal/event/2016/201601/index.htm#a04',\n",
    " 'https://www.cathayholdings.com/bank/cathaybk/enterprise/pdf/pdf34.pdf',\n",
    " 'https://www.cathayholdings.com/bank/cathaybk/enterprise/pdf/pdf33.pdf',\n",
    " 'https://www.cathayholdings.com/bank/cathaybk/enterprise/pdf/pdf32.pdf',\n",
    " 'https://www.cathayholdings.com/bank/cathaybk/enterprise/pdf/pdf31.pdf',\n",
    " 'https://www.cathayholdings.com/bank/cathaybk/enterprise/pdf/pdf30.pdf',\n",
    " 'https://www.cathayholdings.com/bank/cathaybk/vip/myvip_news1050628.asp',\n",
    " 'https://www.cathayholdings.com/bank/cathaybk/doc/cathay20160705.pdf',\n",
    " 'https://www.cathayholdings.com/bank/cathaybk/about_news1050628.asp',\n",
    " 'https://www.cathayholdings.com/bank/cathaybk/about_news1040511.asp',\n",
    " 'news-list.asp',\n",
    " 'https://www.cathaybk.com.tw/cathaybk/personal/event/2016/201601/index.htm',\n",
    " 'https://www.cathayholdings.com/bank/cathaybk/trust/event/2016/201602trust/index.asp',\n",
    " 'https://www.cathayholdings.com/bank/cathaybk/trust_fund_event201606.asp',\n",
    " 'https://www.cathayholdings.com/bank/cathaybk/credit-happytai.asp',\n",
    " 'https://www.kokobank.com/KOKO?utm_source=CUBsmallbanner&utm_medium=banner&utm_campaign=KOKOoda',\n",
    " 'javascript:',\n",
    " '/bank/cathaybk/card/index.asp',\n",
    " '/bank/cathaybk/card/card/card.asp',\n",
    " '/bank/cathaybk/card/news_list.asp',\n",
    " '/bank/cathaybk/card/card/right/right_1.asp',\n",
    " '/bank/cathaybk/card/event/bonus/bonus_2.asp',\n",
    " '/bank/cathaybk/card/event/2012/201203newcard_ggg/index.html',\n",
    " '/bank/cathaybk/deposit/index.asp',\n",
    " '/bank/cathaybk/deposit/account-savings.asp',\n",
    " '/bank/cathaybk/deposit/account-certificate.asp',\n",
    " '/bank/cathaybk/deposit/account-special.asp',\n",
    " '/bank/cathaybk/deposit/rate.asp',\n",
    " 'javascript:',\n",
    " '/bank/cathaybk/house-index.asp',\n",
    " '/bank/cathaybk/credit-happytai.asp',\n",
    " '/bank/cathaybk/other-stock.asp',\n",
    " '/bank/cathaybk/exchange/index.asp',\n",
    " '/bank/cathaybk/exchange/currency-billboard.asp',\n",
    " '/bank/cathaybk/exchange/account.asp',\n",
    " '/bank/cathaybk/exchange/remittance-inward.asp',\n",
    " '/bank/cathaybk/exchange/checks.asp',\n",
    " '/bank/cathaybk/exchange/others-dbu.asp',\n",
    " '/bank/cathaybk/obu/index_personal.asp',\n",
    " '/bank/cathaybk/life/index.asp',\n",
    " '/bank/cathaybk/life/index.asp',\n",
    " '/bank/cathaybk/insurance/index.asp',\n",
    " '/bank/cathaybk/vip/myvip_index.asp',\n",
    " '/bank/cathaybk/vip/myvip_1_1_1.asp',\n",
    " '/bank/cathaybk/vip/myvip_1_05.asp',\n",
    " '/bank/cathaybk/vip/myvip_1_02.asp',\n",
    " '/bank/cathaybk/vip/myvip_2_1_1.asp',\n",
    " '/bank/cathaybk/vip/myvip_index.asp',\n",
    " '/bank/cathaybk/vip/myvip_3_01.asp',\n",
    " '/bank/cathaybk/trust/trust_2_1_1.asp',\n",
    " '/bank/cathaybk/personal_marketing_securities.asp',\n",
    " 'https://www.mybank.com.tw/mybank/',\n",
    " 'javascript:void(0);',\n",
    " 'tel:+8860800818001',\n",
    " 'tel:+886223831000',\n",
    " '#',\n",
    " 'https://www.facebook.com/cathayunitedbank',\n",
    " 'https://www.youtube.com/user/cathayunitedbank/',\n",
    " 'about_creditcard.asp',\n",
    " 'about_finarpt.asp',\n",
    " 'index_environment.asp',\n",
    " 'about_safe.asp',\n",
    " 'set-browser.asp',\n",
    " 'https://www.cathaybk.com.tw/cathaybk/OnlineLoan_index.asp',\n",
    " 'https://www.mybank.com.tw/mybank/',\n",
    " 'credit-reserve.asp',\n",
    " '/bank/cathaybk/Online_Confirm_Card.asp',\n",
    " '/bank/cathaybk/Online_Confirm_Acct.asp',\n",
    " 'Online_Confirm_Srarch_Card.asp',\n",
    " 'Online_Confirm_Srarch_Acct.asp']"
   ]
  },
  {
   "cell_type": "code",
   "execution_count": 100,
   "metadata": {
    "collapsed": false
   },
   "outputs": [
    {
     "name": "stdout",
     "output_type": "stream",
     "text": [
      "['https://www.cathayholdings.com/bank/cathaybk/enterprise/pdf/pdf34.pdf', 'https://www.cathayholdings.com/bank/cathaybk/enterprise/pdf/pdf33.pdf', 'https://www.cathayholdings.com/bank/cathaybk/enterprise/pdf/pdf32.pdf', 'https://www.cathayholdings.com/bank/cathaybk/enterprise/pdf/pdf31.pdf', 'https://www.cathayholdings.com/bank/cathaybk/enterprise/pdf/pdf30.pdf', 'https://www.cathayholdings.com/bank/cathaybk/doc/cathay20160705.pdf']\n"
     ]
    }
   ],
   "source": [
    "pdflist = []\n",
    "for link in cathay:\n",
    "    if 'pdf' in link:\n",
    "        pdflist.append(link)\n",
    "print(pdflist)"
   ]
  },
  {
   "cell_type": "code",
   "execution_count": 103,
   "metadata": {
    "collapsed": false
   },
   "outputs": [
    {
     "name": "stdout",
     "output_type": "stream",
     "text": [
      "['https://www.cathayholdings.com/bank/cathaybk/enterprise/pdf/pdf34.pdf', 'https://www.cathayholdings.com/bank/cathaybk/enterprise/pdf/pdf33.pdf', 'https://www.cathayholdings.com/bank/cathaybk/enterprise/pdf/pdf32.pdf', 'https://www.cathayholdings.com/bank/cathaybk/enterprise/pdf/pdf31.pdf', 'https://www.cathayholdings.com/bank/cathaybk/enterprise/pdf/pdf30.pdf', 'https://www.cathayholdings.com/bank/cathaybk/doc/cathay20160705.pdf']\n"
     ]
    }
   ],
   "source": [
    "# 一行文小技巧\n",
    "pdflist = [link for link in cathay if 'pdf' in link]\n",
    "print(pdflist)"
   ]
  },
  {
   "cell_type": "code",
   "execution_count": 104,
   "metadata": {
    "collapsed": false
   },
   "outputs": [
    {
     "name": "stdout",
     "output_type": "stream",
     "text": [
      "T\n",
      "h\n",
      "i\n",
      "s\n",
      " \n",
      "i\n",
      "s\n",
      " \n",
      "a\n",
      " \n",
      "s\n",
      "t\n",
      "r\n",
      "i\n",
      "n\n",
      "g\n",
      ".\n"
     ]
    }
   ],
   "source": [
    "# 取出每一個單字\n",
    "for letter in 'This is a string.': \n",
    "\tprint(letter)"
   ]
  },
  {
   "cell_type": "code",
   "execution_count": 106,
   "metadata": {
    "collapsed": false
   },
   "outputs": [
    {
     "name": "stdout",
     "output_type": "stream",
     "text": [
      "1\n",
      "2\n",
      "3\n",
      "4\n",
      "5\n"
     ]
    }
   ],
   "source": [
    "tup = (1,2,3,4,5) \n",
    "for t in tup: \n",
    "    print(t)"
   ]
  },
  {
   "cell_type": "code",
   "execution_count": 107,
   "metadata": {
    "collapsed": false
   },
   "outputs": [
    {
     "name": "stdout",
     "output_type": "stream",
     "text": [
      "(2, 4)\n",
      "(6, 8)\n",
      "(10, 12)\n"
     ]
    }
   ],
   "source": [
    "l = [(2,4),(6,8),(10,12)] \n",
    "\n",
    "for tup in l: \n",
    "    print(tup)"
   ]
  },
  {
   "cell_type": "code",
   "execution_count": 108,
   "metadata": {
    "collapsed": false
   },
   "outputs": [
    {
     "name": "stdout",
     "output_type": "stream",
     "text": [
      "[2, 4]\n",
      "[6, 8]\n",
      "[10, 12]\n"
     ]
    }
   ],
   "source": [
    "l = [[2,4],[6,8],[10,12]] \n",
    "for li in l:\n",
    "    print(li)"
   ]
  },
  {
   "cell_type": "code",
   "execution_count": 109,
   "metadata": {
    "collapsed": false
   },
   "outputs": [
    {
     "name": "stdout",
     "output_type": "stream",
     "text": [
      "2\n",
      "6\n",
      "10\n"
     ]
    }
   ],
   "source": [
    "# Unpacking\n",
    "l = [(2,4),(6,8),(10,12)] \n",
    "\n",
    "for (t1,t2) in l: \n",
    "    print(t1)"
   ]
  },
  {
   "cell_type": "code",
   "execution_count": 110,
   "metadata": {
    "collapsed": false
   },
   "outputs": [
    {
     "name": "stdout",
     "output_type": "stream",
     "text": [
      "2\n",
      "6\n",
      "10\n"
     ]
    }
   ],
   "source": [
    "for t1,t2 in l: \n",
    "    print(t1)"
   ]
  },
  {
   "cell_type": "markdown",
   "metadata": {},
   "source": [
    "## ZIP"
   ]
  },
  {
   "cell_type": "code",
   "execution_count": 112,
   "metadata": {
    "collapsed": true
   },
   "outputs": [],
   "source": [
    "Names = ['Mary', 'John', 'James']\n",
    "Height = [162,177,186]\n",
    "Weight = [55,77,87]"
   ]
  },
  {
   "cell_type": "code",
   "execution_count": 115,
   "metadata": {
    "collapsed": false
   },
   "outputs": [
    {
     "name": "stdout",
     "output_type": "stream",
     "text": [
      "('Mary', 162, 55)\n",
      "('John', 177, 77)\n",
      "('James', 186, 87)\n"
     ]
    }
   ],
   "source": [
    "for person in zip(Names, Height, Weight):\n",
    "    print(person)"
   ]
  },
  {
   "cell_type": "code",
   "execution_count": 116,
   "metadata": {
    "collapsed": false
   },
   "outputs": [
    {
     "name": "stdout",
     "output_type": "stream",
     "text": [
      "John 177 77\n",
      "James 186 87\n"
     ]
    }
   ],
   "source": [
    "for n, h, w in  zip(Names, Height, Weight):\n",
    "    if h > 170:\n",
    "        print(n, h, w)"
   ]
  },
  {
   "cell_type": "code",
   "execution_count": 121,
   "metadata": {
    "collapsed": false
   },
   "outputs": [
    {
     "name": "stdout",
     "output_type": "stream",
     "text": [
      "[('John', 177, 77), ('James', 186, 87)]\n"
     ]
    }
   ],
   "source": [
    "print([(n, h, w) for n, h, w in zip(Names, Height, Weight) if h> 170])"
   ]
  },
  {
   "cell_type": "code",
   "execution_count": 123,
   "metadata": {
    "collapsed": false
   },
   "outputs": [
    {
     "name": "stdout",
     "output_type": "stream",
     "text": [
      "k2\n",
      "k1\n",
      "k3\n"
     ]
    }
   ],
   "source": [
    "d = {'k1':1, 'k2':2, 'k3':3}\n",
    "for item in d:\n",
    "    print(item) # keys"
   ]
  },
  {
   "cell_type": "code",
   "execution_count": 124,
   "metadata": {
    "collapsed": false
   },
   "outputs": [
    {
     "name": "stdout",
     "output_type": "stream",
     "text": [
      "k2\n",
      "k1\n",
      "k3\n"
     ]
    }
   ],
   "source": [
    "d = {'k1':1, 'k2':2, 'k3':3}\n",
    "for item in d.keys():\n",
    "    print(item) # keys"
   ]
  },
  {
   "cell_type": "code",
   "execution_count": 125,
   "metadata": {
    "collapsed": false
   },
   "outputs": [
    {
     "name": "stdout",
     "output_type": "stream",
     "text": [
      "2\n",
      "1\n",
      "3\n"
     ]
    }
   ],
   "source": [
    "d = {'k1':1, 'k2':2, 'k3':3}\n",
    "for item in d.values():\n",
    "    print(item) # values"
   ]
  },
  {
   "cell_type": "markdown",
   "metadata": {},
   "source": [
    "### Collections\n",
    "- https://docs.python.org/3.5/library/collections.html"
   ]
  },
  {
   "cell_type": "code",
   "execution_count": 127,
   "metadata": {
    "collapsed": false
   },
   "outputs": [
    {
     "name": "stdout",
     "output_type": "stream",
     "text": [
      "('k2', 2)\n",
      "('k1', 1)\n",
      "('k3', 3)\n"
     ]
    }
   ],
   "source": [
    "d = {'k1':1, 'k2':2, 'k3':3}\n",
    "for item in d.items():\n",
    "    print(item)"
   ]
  },
  {
   "cell_type": "code",
   "execution_count": 128,
   "metadata": {
    "collapsed": false
   },
   "outputs": [
    {
     "name": "stdout",
     "output_type": "stream",
     "text": [
      "k2 2\n",
      "k1 1\n",
      "k3 3\n"
     ]
    }
   ],
   "source": [
    "for k, v in d.items(): # k => keys, v => values\n",
    "    print(k,v)"
   ]
  },
  {
   "cell_type": "markdown",
   "metadata": {},
   "source": [
    "## 迭代器"
   ]
  },
  {
   "cell_type": "code",
   "execution_count": 138,
   "metadata": {
    "collapsed": true
   },
   "outputs": [],
   "source": [
    "s = [1,2,3,4,5]\n",
    "#?iter\n",
    "s_iter = iter(s)"
   ]
  },
  {
   "cell_type": "code",
   "execution_count": 139,
   "metadata": {
    "collapsed": false
   },
   "outputs": [
    {
     "data": {
      "text/plain": [
       "1"
      ]
     },
     "execution_count": 139,
     "metadata": {},
     "output_type": "execute_result"
    }
   ],
   "source": [
    "next(s_iter)"
   ]
  },
  {
   "cell_type": "code",
   "execution_count": 140,
   "metadata": {
    "collapsed": false
   },
   "outputs": [
    {
     "data": {
      "text/plain": [
       "2"
      ]
     },
     "execution_count": 140,
     "metadata": {},
     "output_type": "execute_result"
    }
   ],
   "source": [
    "next(s_iter)"
   ]
  },
  {
   "cell_type": "code",
   "execution_count": 141,
   "metadata": {
    "collapsed": false
   },
   "outputs": [
    {
     "data": {
      "text/plain": [
       "3"
      ]
     },
     "execution_count": 141,
     "metadata": {},
     "output_type": "execute_result"
    }
   ],
   "source": [
    "next(s_iter)"
   ]
  },
  {
   "cell_type": "code",
   "execution_count": 142,
   "metadata": {
    "collapsed": false
   },
   "outputs": [
    {
     "data": {
      "text/plain": [
       "4"
      ]
     },
     "execution_count": 142,
     "metadata": {},
     "output_type": "execute_result"
    }
   ],
   "source": [
    "next(s_iter)"
   ]
  },
  {
   "cell_type": "code",
   "execution_count": 143,
   "metadata": {
    "collapsed": false
   },
   "outputs": [
    {
     "data": {
      "text/plain": [
       "5"
      ]
     },
     "execution_count": 143,
     "metadata": {},
     "output_type": "execute_result"
    }
   ],
   "source": [
    "next(s_iter)"
   ]
  },
  {
   "cell_type": "markdown",
   "metadata": {},
   "source": [
    "## While 迴圈"
   ]
  },
  {
   "cell_type": "code",
   "execution_count": 144,
   "metadata": {
    "collapsed": false
   },
   "outputs": [
    {
     "name": "stdout",
     "output_type": "stream",
     "text": [
      "x is currently:  0\n",
      "x is still less than 10, adding 1 to x\n",
      "x is currently:  1\n",
      "x is still less than 10, adding 1 to x\n",
      "x is currently:  2\n",
      "x is still less than 10, adding 1 to x\n",
      "x is currently:  3\n",
      "x is still less than 10, adding 1 to x\n",
      "x is currently:  4\n",
      "x is still less than 10, adding 1 to x\n",
      "x is currently:  5\n",
      "x is still less than 10, adding 1 to x\n",
      "x is currently:  6\n",
      "x is still less than 10, adding 1 to x\n",
      "x is currently:  7\n",
      "x is still less than 10, adding 1 to x\n",
      "x is currently:  8\n",
      "x is still less than 10, adding 1 to x\n",
      "x is currently:  9\n",
      "x is still less than 10, adding 1 to x\n"
     ]
    }
   ],
   "source": [
    "x = 0 \n",
    "\n",
    "while x < 10: \n",
    "        print('x is currently: ',x) \n",
    "        print('x is still less than 10, adding 1 to x')\n",
    "        x+=1"
   ]
  },
  {
   "cell_type": "code",
   "execution_count": 145,
   "metadata": {
    "collapsed": false
   },
   "outputs": [
    {
     "name": "stdout",
     "output_type": "stream",
     "text": [
      "x is currently:  0\n",
      "x is still less than 10, adding 1 to x\n",
      "x is currently:  1\n",
      "x is still less than 10, adding 1 to x\n",
      "x is currently:  2\n",
      "x is still less than 10, adding 1 to x\n",
      "x is currently:  3\n",
      "x is still less than 10, adding 1 to x\n",
      "x is currently:  4\n",
      "x is still less than 10, adding 1 to x\n",
      "x is currently:  5\n",
      "x is still less than 10, adding 1 to x\n",
      "x is currently:  6\n",
      "x is still less than 10, adding 1 to x\n",
      "x is currently:  7\n",
      "x is still less than 10, adding 1 to x\n",
      "x is currently:  8\n",
      "x is still less than 10, adding 1 to x\n",
      "x is currently:  9\n",
      "x is still less than 10, adding 1 to x\n",
      "All Done!\n"
     ]
    }
   ],
   "source": [
    "x = 0 \n",
    "\n",
    "while x < 10: \n",
    "        print('x is currently: ',x) \n",
    "        print('x is still less than 10, adding 1 to x')\n",
    "        x+=1 \n",
    "else: # 終止條件\n",
    "        print('All Done!')\n"
   ]
  },
  {
   "cell_type": "code",
   "execution_count": 152,
   "metadata": {
    "collapsed": false
   },
   "outputs": [
    {
     "name": "stdout",
     "output_type": "stream",
     "text": [
      "x is currently:  0\n",
      " x is still less than 10, adding 1 to x\n",
      "continuing...\n",
      "x is currently:  1\n",
      " x is still less than 10, adding 1 to x\n",
      "continuing...\n",
      "x is currently:  2\n",
      " x is still less than 10, adding 1 to x\n",
      "x==3\n"
     ]
    }
   ],
   "source": [
    "x = 0 \n",
    "\n",
    "while x < 10: \n",
    "        print('x is currently: ',x )\n",
    "        print(' x is still less than 10, adding 1 to x' )\n",
    "        x+=1 \n",
    "        if x ==3: \n",
    "            print('x==3') \n",
    "            break      # 終止迴圈\n",
    "        else: \n",
    "            #continue # 回到迴圈的最開頭\n",
    "            pass # 略過此一動作, 持續執行下去\n",
    "            print('continuing...' )\n",
    "            #continue"
   ]
  },
  {
   "cell_type": "markdown",
   "metadata": {
    "collapsed": true
   },
   "source": [
    "## 檔案操作(File) "
   ]
  },
  {
   "cell_type": "code",
   "execution_count": 7,
   "metadata": {
    "collapsed": true
   },
   "outputs": [],
   "source": [
    "#將Hello World 寫入檔案中\n",
    "fid = open('test.txt', 'w') # w => write mode\n",
    "fid.write('Hello\\nWorld')\n",
    "fid.close()"
   ]
  },
  {
   "cell_type": "code",
   "execution_count": 8,
   "metadata": {
    "collapsed": true
   },
   "outputs": [],
   "source": [
    "#將append new line 增添至檔案中\n",
    "fid = open('test.txt', 'a') # a => append mode\n",
    "fid.write('\\nappend new line')\n",
    "fid.close()"
   ]
  },
  {
   "cell_type": "code",
   "execution_count": 9,
   "metadata": {
    "collapsed": true
   },
   "outputs": [],
   "source": [
    "# 自動開檔關檔\n",
    "with open('test.txt', 'w') as f:\n",
    "    f.write('hello pokemon')"
   ]
  },
  {
   "cell_type": "code",
   "execution_count": 10,
   "metadata": {
    "collapsed": true
   },
   "outputs": [],
   "source": [
    "#將Hello World 寫入檔案中\n",
    "fid = open('test.txt', 'w') # w => write mode\n",
    "fid.write('Hello\\nWorld')\n",
    "fid.close()"
   ]
  },
  {
   "cell_type": "code",
   "execution_count": 13,
   "metadata": {
    "collapsed": false
   },
   "outputs": [
    {
     "name": "stdout",
     "output_type": "stream",
     "text": [
      "['Hello\\n', 'World']\n"
     ]
    }
   ],
   "source": [
    "print(open('test.txt', 'r').readlines())"
   ]
  },
  {
   "cell_type": "code",
   "execution_count": 17,
   "metadata": {
    "collapsed": false
   },
   "outputs": [
    {
     "name": "stdout",
     "output_type": "stream",
     "text": [
      "Hello\n",
      "World\n"
     ]
    }
   ],
   "source": [
    "with open('test.txt', 'r')  as fid:\n",
    "    for line in fid:\n",
    "        print(line.strip())"
   ]
  },
  {
   "cell_type": "markdown",
   "metadata": {},
   "source": [
    "### strip 的用法"
   ]
  },
  {
   "cell_type": "code",
   "execution_count": 16,
   "metadata": {
    "collapsed": false
   },
   "outputs": [
    {
     "name": "stdout",
     "output_type": "stream",
     "text": [
      "                       abc       \n",
      "\n",
      "   123    \t \n",
      "\n",
      "abc       \n",
      "\n",
      "   123\n"
     ]
    }
   ],
   "source": [
    "a = '                       abc       \\n\\n   123    \\t \\n'\n",
    "print(a)\n",
    "print(a.strip()) # strip 預設移除左右空白跟換行符號"
   ]
  },
  {
   "cell_type": "code",
   "execution_count": 21,
   "metadata": {
    "collapsed": false
   },
   "outputs": [
    {
     "name": "stdout",
     "output_type": "stream",
     "text": [
      "===Hello\n",
      "World===\n"
     ]
    }
   ],
   "source": [
    "with open('test.txt', 'r')  as fid:\n",
    "    print(\"===\" + fid.read()+\"===\") # read() 可以一次讀取所有資料"
   ]
  },
  {
   "cell_type": "code",
   "execution_count": 24,
   "metadata": {
    "collapsed": false
   },
   "outputs": [
    {
     "name": "stdout",
     "output_type": "stream",
     "text": [
      "2\n"
     ]
    }
   ],
   "source": [
    "k = 0 #行數初始值\n",
    "with open('test.txt', 'r') as fid:\n",
    "    for line in fid:\n",
    "        k = k + 1\n",
    "print(k)"
   ]
  },
  {
   "cell_type": "code",
   "execution_count": 27,
   "metadata": {
    "collapsed": false
   },
   "outputs": [
    {
     "name": "stdout",
     "output_type": "stream",
     "text": [
      "2\n"
     ]
    }
   ],
   "source": [
    "# readlines 可以把資料讀成list, 之後再用len 統計行數\n",
    "print(len(open('test.txt', 'r').readlines()))"
   ]
  },
  {
   "cell_type": "markdown",
   "metadata": {},
   "source": [
    "### 統計字詞出現數量"
   ]
  },
  {
   "cell_type": "code",
   "execution_count": 33,
   "metadata": {
    "collapsed": false
   },
   "outputs": [],
   "source": [
    "with open('data/cnnpokemon.txt', 'r') as f:\n",
    "    article = f.read()\n",
    "\n",
    "phrases = article.split()"
   ]
  },
  {
   "cell_type": "code",
   "execution_count": 34,
   "metadata": {
    "collapsed": true
   },
   "outputs": [
    {
     "name": "stdout",
     "output_type": "stream",
     "text": [
      "{'kawaii': 1, 'reported': 1, 'they': 5, 'today,': 1, 'GMT': 1, 'furiously': 1, 'over': 3, 'range': 1, 'change.': 1, 'experience': 1, 'judgment).': 1, 'that': 7, 'outside': 1, 'before': 1, 'shuffling': 1, 'zubat': 1, 'Trends.': 1, 'go': 3, 'Please': 1, 'physical': 1, 'teenagers': 1, 'though.': 1, 'rob': 1, 'device': 1, 'parked': 1, 'undulating': 1, 'it': 3, 'Pok矇mon': 34, 'pok矇balls': 1, 'robbery,': 1, 'How': 3, 'refurbished': 1, 'teams.': 1, 'aim': 1, 'disown': 1, 'players': 4, 'My': 1, 'may': 1, 'say': 1, 'reference.': 1, '(This': 2, 'search': 1, 'world': 2, 'around': 2, 'eggs,': 1, \"hasn't\": 1, 'lure': 1, 'Video': 1, 'response': 1, 'swiping': 1, 'spike': 1, 'look': 1, 'words.': 1, 'five': 1, \"someone's\": 1, 'tempted': 1, 'station': 1, 'Pok矇balls.': 2, 'question:': 1, 'little.': 1, 'not': 1, \"Nintendo's\": 1, 'trap': 1, 'slightly': 2, '--': 2, 'willing': 1, 'You': 6, 'download': 1, 'play,': 1, 'pocket': 1, 'tresspass': 1, 'house': 1, 'users.': 1, 'cartoony': 1, 'query': 1, 'from': 4, 'version': 1, 'trading': 2, 'so': 4, 'Story': 1, 'Sense.\"': 1, 'unhatched': 1, 'had': 1, 'powerful': 1, 'hatch': 1, 'basic': 1, 'companion': 1, 'might': 2, 'Here&#39;s': 1, 'okay.': 1, 'lunatics': 1, 'sexy': 1, 'Center': 1, 'part:': 1, 'Tinder,': 1, 'much': 1, 'know': 1, 'take': 1, 'waiting': 2, 'Pok矇stops.': 1, 'many,': 1, 'there': 3, 'To': 1, 'So': 1, 'friendships': 1, 'aspect': 1, 'Vaporeon': 1, 'Pok矇ball?\"': 1, 'moments': 2, 'basically': 2, 'ways': 1, \"there's\": 2, 'general': 1, \"you're\": 2, 'outperform': 1, 'reality': 1, 'lives.': 1, 'literal': 1, '\"6th': 1, 'hours': 1, 'its': 1, 'Playing': 1, 'All': 1, 'hysteria': 2, 'pace': 1, '02:01': 1, \"neighbor's\": 1, 'HKT)': 1, '\"augmented': 1, 'else': 1, \"That's\": 1, 'Armed': 1, 'up,': 1, 'have': 4, 'nothing': 1, 'potions': 1, 'drive': 1, 'earn': 1, 'dan': 1, 'GO': 9, 'Really,': 1, 'has': 5, 'things': 2, 'still': 1, 'Atlanta': 1, 'Willingham,': 1, 'harbor': 1, 'quietly': 1, 'street.': 1, 'you': 28, 'people': 4, 'dating': 1, 'politely': 1, 'pitfalls.': 1, 'IMPORTANT': 1, \"Let's\": 2, 'miles\"': 1, 'hours,': 1, 'get': 9, 'a': 39, 'once.': 1, 'trainer.': 1, 'animalian': 1, 'app': 3, 'Next': 1, 'Kayaking': 1, 'this,': 1, 'Pokemon),': 2, 'One': 1, 'tree.': 1, 'Pok矇balls,': 1, 'That': 2, 'where': 1, 'sounds': 1, 'up': 2, 'local': 1, 'work': 1, \"wouldn't\": 1, 'is': 27, 'though?': 1, 'reminding': 1, 'when': 3, 'July': 1, \"app's\": 1, 'out-of-the-loop': 1, 'CNN': 2, '9:37': 1, 'This': 2, 'them,': 2, 'As': 1, 'knew': 1, 'By': 1, 'dangerously': 1, 'Go': 2, 'colorful,': 1, 'Sneaking': 1, 'water,': 1, 'plural': 1, 'hazards': 1, 'gameplay': 1, 'Is': 1, 'trust': 1, '(CNN)So': 1, 'balls': 1, 'warnings': 1, 'Coincidence?': 1, 'aspects': 1, 'guy': 3, 'on.': 1, 'already': 1, 'made': 1, 'hiding': 1, 'ball': 1, 'the': 32, 'moving': 1, 'Gym.': 1, '13,': 1, 'released': 2, 'netting': 1, 'Retweets': 2, 'When': 2, 'community.': 1, \"Don't\": 1, '5:19': 1, '(which': 1, '25': 2, 'goodies.': 1, 'frustrating.': 1, 'fact,': 1, 'gym': 1, 'positive': 1, 'flicking': 1, 'enough': 1, 'surely': 1, 'stock': 1, 'VENONATS!': 2, 'blatant': 1, \"people's\": 3, 'stuff,': 1, 'landmark,': 1, 'animated': 1, 'strategies': 1, 'at': 6, 'am': 2, 'quest': 1, 'reality,': 1, '(type': 2, 'around,': 1, 'asking': 1, 'say,': 1, 'Main': 1, 'Oh,': 1, 'them;': 1, 'to': 38, 'friends': 2, 'plans': 1, 'regardless': 1, 'likes': 2, 'Sheridan': 1, 'uses': 3, '\"level': 1, 'girl': 1, 'mentioned': 1, 'Probably': 1, 'in-game': 1, 'Boon': 1, 'in': 22, 'Street,': 1, 'release': 1, 'In': 3, 'What': 2, 'them?': 1, 'pulled': 1, 'save': 1, 'allows': 1, 'can': 6, 'nature': 1, 'and': 35, 'SEE': 2, 'my': 3, \"It's\": 6, 'fountain?': 1, 'GPS': 1, 'sorts': 1, 'blocking': 1, 'using': 1, 'of': 29, 'features': 1, 'exercising': 1, 'taking': 2, 'police': 1, 'crossing': 1, 'downloads': 1, '10': 1, 'nearby': 2, 'Pok矇stop': 1, 'Pok矇mon.': 2, 'hand.': 1, 'limited': 1, 'Squirtle': 2, 'losing': 1, 'resistant': 1, 'which': 4, 'walk': 4, '2016': 3, 'portapotty': 1, '@ddfoxfriend': 1, \"There's\": 1, 'someone': 1, 'away?': 1, 'keep': 1, 'catching': 1, 'I': 5, '\"What\\'s': 1, 'Pok矇mons': 1, 'AM': 2, 'down': 1, 'Okay': 1, 'phenomenon.': 1, 'reservations': 1, 'ask': 1, 'kilometers,': 2, 'certainly': 1, \"Here's\": 3, 'forever.': 1, 'acquire': 1, 'ON:': 2, 'active': 1, 'throughout,': 1, 'path.': 1, '(1619': 1, 'ignorance.': 1, 'about': 3, '11': 1, 'their': 8, 'It': 3, 'overlays': 1, 'houses': 1, 'playing,': 1, 'funniest': 2, 'was': 3, 'avatar,': 1, 'out': 1, '0819': 1, 'skyrocketed.': 1, 'out-of-touch': 1, 'neighborhood': 1, 'Big-Brother-y': 1, 'fight': 2, 'prove': 1, 'breeds': 1, 'group': 1, 'few': 1, 'thinly-veiled': 1, 'usually': 1, 'many': 2, '\"5km': 1, 'use': 1, 'MORE': 3, 'backyard?': 1, 'stardust': 1, 'gal': 1, 'extremely': 1, 'dead': 2, 'intentionally': 1, 'that?': 1, 'mildly': 1, 'see': 1, 'strategy': 1, 'wrist': 1, 'Anyway,': 2, 'camera,': 1, 'them': 7, 'recognize': 1, 'loiter': 1, 'best.': 1, 'Police': 1, 'just': 3, 'come': 2, 'interspersed': 1, 'monster)': 1, 'me': 2, 'aunt': 1, 'lot': 1, \"We'll\": 1, 'Your': 1, 'go.': 1, 'an': 4, 'creature.': 1, 'Google': 1, 'well-known': 1, '150': 2, 'think': 1, '\"Pok矇stops.\"': 1, 'different': 5, 'gets': 2, 'time.': 1, 'incentives': 1, 'issue': 1, 'story': 1, 'deranged': 1, '\"approach\"': 1, 'up.\"': 1, 'ghost': 1, 'alone.': 1, 'Twitter': 5, 'now': 1, 'phone.': 1, 'do': 5, 'exercise.': 1, 'happened.': 1, 'then': 1, 'ploy': 2, 'after': 1, 'jealous.': 1, 'reality\"': 1, 'and/or': 1, 'catch': 1, 'Been': 1, \"(That's\": 1, 'funny': 1, 'across': 1, 'for': 5, 'even': 6, 'his': 2, 'around.': 1, 'all': 2, 'desk,': 1, 'help': 1, 'walking': 1, 'city': 1, 'anywhere': 1, 'does.': 1, 'app,': 1, 'of.': 1, 'seems': 1, 'motion': 1, \"You're\": 1, 'Big': 1, 'real-world': 1, 'The': 9, 'Pok矇mon,': 1, 'Pikachu)': 2, 'People': 2, 'Pok矇stops': 2, 'if': 3, 'directly': 1, 'leery': 1, 'NOTE:': 1, 'learned': 1, 'beginning.': 1, '嚜激verything': 1, 'ideal': 1, 'ground': 1, 'GO,': 1, 'bemused': 1, 'tell': 1, '\"eggs,\"': 1, 'July,': 1, 'it.)': 1, 'learning': 1, 'makes': 1, 'View': 4, 'only': 1, 'times': 1, 'wanted': 1, 'avoid': 1, 'afraid': 1, 'increases': 1, 'best': 1, 'bath': 1, 'feels': 1, 'actually': 1, 'or': 4, 'game': 11, 'important': 1, 'good': 1, 'Pok矇hoarding': 1, 'into': 3, 'AJ': 1, 'while': 1, 'augmented': 1, 'as': 3, 'animals.': 1, '-': 2, 'point': 1, 'no': 2, 'dubious': 1, 'types.': 1, 'planning': 1, '@boonerang': 1, 'phones.': 1, 'items': 1, 'home': 1, 'sit': 1, 'FitBit,': 1, 'map': 1, 'clearly': 1, 'magical,': 1, 'bragging': 2, 'More': 1, 'way': 1, '449': 2, 'but': 1, '(short': 1, 'lost.': 1, 'caught.': 2, 'everyone': 1, \"phone's\": 1, 'be': 7, 'it.': 1, 'night': 1, 'possible.': 1, 'aesthetic,': 1, 'trainer': 1, 'species': 1, 'Pok矇mon?': 2, 'how': 1, 'Although': 1, 'several': 2, 'close': 2, 'not.': 1, 'show': 1, 'wild': 1, 'like': 8, 'poor': 1, 'interest.': 1, 'issued': 1, 'scary?': 1, 'trying': 2, 'art': 1, 'were': 3, 'find': 1, 'Updated': 1, 'A': 3, 'Sometimes': 1, 'net': 1, 'kinds': 1, 'While': 2, 'points': 2, 'made,': 1, 'Pok矇mons.': 1, 'would': 1, 'far': 2, \"that's\": 2, 'share': 1, 'alarming': 1, 'loads': 1, '9': 2, 'your': 12, 'designated': 1, 'place': 2, 'places': 1, 'make': 1, 'means': 1, 'highlights': 1, 'daily': 1, 'answered': 1, 'friend.': 1, 'stay': 1, 'phone': 3, 'There': 3, 'who': 2, 'order': 1, 'game/exercise': 1, 'candy': 1, 'are': 14, '7': 1, 'impression': 1, 'body': 1, 'discoveries': 1, 'Game': 1, 'found': 1, 'here': 1, 'tapping': 1, 'start': 1, 'interesting': 1, 'Pikachu,': 1, 'enough.': 1, 'try': 1, 'within': 1, 'rewarded': 1, 'alerts': 1, 'used': 1, 'gives': 1, 'church': 1, 'other': 7, 'most': 3, 'popular': 1, 'very': 4, 'this': 5, 'worship,': 1, 'image': 4, 'questions': 1, 'barging': 1, 'frequency': 1, 'little': 3, 'etc.': 2, 'Whereverville.': 1, 'will': 6, 'before,': 1, 'U.S.': 1, 'sound': 1, 'works,': 1, 'than': 2, 'by': 2, 'system.': 1, 'throwing': 1, 'Long': 1, 'later.': 1, 'Points': 1, 'downtown': 1, \"I'm\": 1, 'that.': 1, 'what': 3, 'transparent': 1, 'me,': 2, 'with': 4, 'definitely': 1, '5': 1, 'store,': 1, 'been': 2, '\"incubate\"': 1, 'front': 1, 'finger.': 1, 'flapping': 1, 'more': 4, 'departments': 1, 'cover': 1, 'evolving': 1, 'are.': 1, 'flingin': 1, 'also': 1, 'bodies,': 1, 'phones': 2, 'need': 1, 'rights.': 1, 'metric': 1, 'resist,': 1, 'going': 2, 'short,': 1, 'activity.': 1, 'overwhelmingly': 1, 'on': 9, 'free': 1, 'disconcerting': 1, 'complex.': 2, 'without': 1, 'stories': 1, 'Jul': 2, 'amount': 1, 'both': 1, 'Follow': 2, 'sitting': 1, 'world.': 1}\n"
     ]
    }
   ],
   "source": [
    "#phrases = ['a', 'c', 'b', 'a' ,'b']\n",
    "\n",
    "cnt_dic = {}\n",
    "for word in phrases:\n",
    "    if word not in cnt_dic:\n",
    "        cnt_dic[word] = 1\n",
    "    else:\n",
    "        cnt_dic[word] += 1\n",
    "print(cnt_dic)   "
   ]
  },
  {
   "cell_type": "code",
   "execution_count": 38,
   "metadata": {
    "collapsed": false
   },
   "outputs": [
    {
     "name": "stdout",
     "output_type": "stream",
     "text": [
      "('a', 39)\n",
      "('to', 38)\n",
      "('and', 35)\n",
      "('Pok矇mon', 34)\n",
      "('the', 32)\n",
      "('of', 29)\n",
      "('you', 28)\n",
      "('is', 27)\n",
      "('in', 22)\n",
      "('are', 14)\n",
      "('your', 12)\n",
      "('game', 11)\n",
      "('GO', 9)\n",
      "('get', 9)\n",
      "('The', 9)\n",
      "('on', 9)\n",
      "('their', 8)\n",
      "('like', 8)\n",
      "('that', 7)\n",
      "('them', 7)\n",
      "('be', 7)\n",
      "('other', 7)\n",
      "('You', 6)\n",
      "('at', 6)\n",
      "('can', 6)\n",
      "(\"It's\", 6)\n",
      "('even', 6)\n",
      "('will', 6)\n",
      "('they', 5)\n",
      "('has', 5)\n"
     ]
    }
   ],
   "source": [
    "import operator\n",
    "# .items => 將key, value pair 轉成 tuple' itemgetter 是使用值做排序; reverse 是倒排\n",
    "swd = sorted(cnt_dic.items(), key=operator.itemgetter(1), reverse=True)\n",
    "for w in swd[0:30]:\n",
    "    print(w)"
   ]
  },
  {
   "cell_type": "markdown",
   "metadata": {},
   "source": [
    "### Collections\n",
    "- https://docs.python.org/3.5/library/collections.html"
   ]
  },
  {
   "cell_type": "markdown",
   "metadata": {},
   "source": [
    "## 使用Collections 重新製做字詞統計"
   ]
  },
  {
   "cell_type": "code",
   "execution_count": 40,
   "metadata": {
    "collapsed": true
   },
   "outputs": [],
   "source": [
    "with open('data/cnnpokemon.txt', 'r') as f:\n",
    "    article = f.read()\n",
    "\n",
    "phrases = article.split()"
   ]
  },
  {
   "cell_type": "code",
   "execution_count": 42,
   "metadata": {
    "collapsed": false
   },
   "outputs": [
    {
     "name": "stdout",
     "output_type": "stream",
     "text": [
      "[('a', 39), ('to', 38), ('and', 35), ('Pok矇mon', 34), ('the', 32), ('of', 29), ('you', 28), ('is', 27), ('in', 22), ('are', 14), ('your', 12), ('game', 11), ('GO', 9), ('get', 9), ('The', 9), ('on', 9), ('their', 8), ('like', 8), ('that', 7), ('them', 7), ('be', 7), ('other', 7), ('You', 6), ('at', 6), ('can', 6), (\"It's\", 6), ('even', 6), ('will', 6), ('they', 5), ('has', 5)]\n"
     ]
    }
   ],
   "source": [
    "#phrases = ['a', 'c', 'b', 'a' ,'b']\n",
    "from collections import Counter\n",
    "c = Counter()\n",
    "for word in phrases:\n",
    "    c[word] +=1\n",
    "print(c.most_common(30))"
   ]
  },
  {
   "cell_type": "markdown",
   "metadata": {},
   "source": [
    "## 中文詞頻統計"
   ]
  },
  {
   "cell_type": "code",
   "execution_count": 62,
   "metadata": {
    "collapsed": false
   },
   "outputs": [
    {
     "name": "stderr",
     "output_type": "stream",
     "text": [
      "C:\\Anaconda32\\lib\\site-packages\\bs4\\__init__.py:166: UserWarning: No parser was explicitly specified, so I'm using the best available HTML parser for this system (\"lxml\"). This usually isn't a problem, but if you run this code on another system, or in a different virtual environment, it may use a different parser and behave differently.\n",
      "\n",
      "To get rid of this warning, change this:\n",
      "\n",
      " BeautifulSoup([your markup])\n",
      "\n",
      "to this:\n",
      "\n",
      " BeautifulSoup([your markup], \"lxml\")\n",
      "\n",
      "  markup_type=markup_type))\n"
     ]
    }
   ],
   "source": [
    "import requests\n",
    "from bs4 import BeautifulSoup\n",
    "res = requests.get('http://www.appledaily.com.tw/realtimenews/article/new/20160811/926372/')\n",
    "soup = BeautifulSoup(res.text)\n",
    "#with open('appleidaily_pokemon.txt', 'w') as f:\n",
    "article = soup.select('#summary')[0].text"
   ]
  },
  {
   "cell_type": "markdown",
   "metadata": {},
   "source": [
    "### 安裝jieba\n",
    "- 在Anaconda Prompt 下 (黑黑的畫面)\n",
    "- pip install jieba"
   ]
  },
  {
   "cell_type": "code",
   "execution_count": 70,
   "metadata": {
    "collapsed": false
   },
   "outputs": [
    {
     "name": "stdout",
     "output_type": "stream",
     "text": [
      "帳號 16\n",
      "mon 10\n",
      "遊戲 10\n",
      "Pok 10\n",
      "GO 10\n",
      "玩家 8\n",
      "美元 7\n",
      "2000 5\n",
      "LoL 4\n",
      "精靈 4\n",
      "網友 4\n",
      "萬元 4\n",
      "網站 4\n",
      "聯盟 4\n",
      "英雄 4\n",
      "台幣 4\n",
      "開價 4\n",
      "需求 3\n",
      "自己 3\n",
      "99 3\n",
      "PlayerAuctions 3\n",
      "交易 3\n",
      "超過 2\n",
      "報導 2\n",
      "世界 2\n",
      "甚至 2\n",
      "另外 2\n",
      "CNBC 2\n",
      "可能 2\n",
      "999999 2\n"
     ]
    }
   ],
   "source": [
    "import jieba\n",
    "from collections import Counter\n",
    "c = Counter()\n",
    "for ele in jieba.cut(article):\n",
    "    if len(ele) >=2:\n",
    "        c[ele] +=1\n",
    "for k, v in c.most_common(30):\n",
    "    print(k,v)"
   ]
  },
  {
   "cell_type": "markdown",
   "metadata": {},
   "source": [
    "### Jupyter Notebook Magic"
   ]
  },
  {
   "cell_type": "code",
   "execution_count": 3,
   "metadata": {
    "collapsed": false
   },
   "outputs": [
    {
     "data": {
      "text/plain": [
       "'C:\\\\Users\\\\User\\\\cathaybkpython'"
      ]
     },
     "execution_count": 3,
     "metadata": {},
     "output_type": "execute_result"
    }
   ],
   "source": [
    "pwd # 執行終端機的指令"
   ]
  },
  {
   "cell_type": "code",
   "execution_count": 4,
   "metadata": {
    "collapsed": false
   },
   "outputs": [
    {
     "name": "stdout",
     "output_type": "stream",
     "text": [
      " 磁碟區 C 中的磁碟是 OS 7\n",
      " 磁碟區序號:  C485-A13C\n",
      "\n",
      " C:\\Users\\User\\cathaybkpython 的目錄\n",
      "\n",
      "2016/08/11  下午 02:25    <DIR>          .\n",
      "2016/08/11  下午 02:25    <DIR>          ..\n",
      "2016/08/04  上午 07:55             1,134 .gitignore\n",
      "2016/08/11  下午 12:07    <DIR>          .ipynb_checkpoints\n",
      "2016/08/04  下午 04:15            66,179 20160804Demo.ipynb\n",
      "2016/08/04  上午 08:13            26,917 20160804Tutorial.ipynb\n",
      "2016/08/11  下午 02:25            54,898 20160811Demo.ipynb\n",
      "2016/08/10  下午 10:55           272,083 cathaylink3.csv\n",
      "2016/08/11  上午 07:58    <DIR>          data\n",
      "2016/08/11  上午 09:43            47,702 Homework1.ipynb\n",
      "2016/08/11  下午 01:23             1,471 Homework2.ipynb\n",
      "2016/08/04  下午 12:53               287 README.md\n",
      "2016/08/11  下午 02:24                12 test.txt\n",
      "2016/08/11  下午 12:11            40,715 Untitled.ipynb\n",
      "              10 個檔案         511,398 位元組\n",
      "               4 個目錄  169,840,197,632 位元組可用\n"
     ]
    }
   ],
   "source": [
    "ls "
   ]
  }
 ],
 "metadata": {
  "kernelspec": {
   "display_name": "Python [Root]",
   "language": "python",
   "name": "Python [Root]"
  },
  "language_info": {
   "codemirror_mode": {
    "name": "ipython",
    "version": 3
   },
   "file_extension": ".py",
   "mimetype": "text/x-python",
   "name": "python",
   "nbconvert_exporter": "python",
   "pygments_lexer": "ipython3",
   "version": "3.5.2"
  }
 },
 "nbformat": 4,
 "nbformat_minor": 0
}
